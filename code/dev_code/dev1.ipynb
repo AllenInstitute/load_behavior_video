{
 "cells": [
  {
   "cell_type": "code",
   "execution_count": 2,
   "metadata": {},
   "outputs": [],
   "source": [
    "import os\n",
    "from tqdm import tqdm\n",
    "import sys\n",
    "sys.path.append('..')  # '..' means parent directory\n",
    "import utils\n",
    "import time  # Added for timing\n",
    "from VideoLoader import VideoLoader  # Correct import\n",
    "\n",
    "DATA_PATH = '/root/capsule/data'\n",
    "OUTPUT_PATH = '/root/capsule/results'\n"
   ]
  },
  {
   "cell_type": "code",
   "execution_count": 1,
   "metadata": {},
   "outputs": [
    {
     "ename": "ModuleNotFoundError",
     "evalue": "No module named 'aind_session'",
     "output_type": "error",
     "traceback": [
      "\u001b[0;31m---------------------------------------------------------------------------\u001b[0m",
      "\u001b[0;31mModuleNotFoundError\u001b[0m                       Traceback (most recent call last)",
      "Cell \u001b[0;32mIn[1], line 1\u001b[0m\n\u001b[0;32m----> 1\u001b[0m \u001b[39mimport\u001b[39;00m \u001b[39mcomb\u001b[39;00m\n",
      "File \u001b[0;32m/comb/src/comb/__init__.py:5\u001b[0m\n\u001b[1;32m      1\u001b[0m \u001b[39m\"\"\"Simple package to demo project structure.\u001b[39;00m\n\u001b[1;32m      2\u001b[0m \u001b[39m\"\"\"\u001b[39;00m\n\u001b[1;32m      3\u001b[0m __version__ \u001b[39m=\u001b[39m \u001b[39m\"\u001b[39m\u001b[39m0.1.20\u001b[39m\u001b[39m\"\u001b[39m\n\u001b[0;32m----> 5\u001b[0m \u001b[39mfrom\u001b[39;00m \u001b[39m.\u001b[39;00m\u001b[39mbehavior_ophys_dataset\u001b[39;00m \u001b[39mimport\u001b[39;00m BehaviorOphysDataset, BehaviorMultiplaneOphysDataset\n\u001b[1;32m      6\u001b[0m \u001b[39mfrom\u001b[39;00m \u001b[39m.\u001b[39;00m\u001b[39mophys_plane_dataset\u001b[39;00m \u001b[39mimport\u001b[39;00m OphysPlaneDataset\n\u001b[1;32m      7\u001b[0m \u001b[39mfrom\u001b[39;00m \u001b[39m.\u001b[39;00m\u001b[39mbehavior_session_dataset\u001b[39;00m \u001b[39mimport\u001b[39;00m BehaviorSessionDataset\n",
      "File \u001b[0;32m/comb/src/comb/behavior_ophys_dataset.py:6\u001b[0m\n\u001b[1;32m      1\u001b[0m \u001b[39m# This class combines a OphysPlaneDataset and BehaviorDatase to create a BehaviorOphysDataset,\u001b[39;00m\n\u001b[1;32m      2\u001b[0m \u001b[39m# inputs are raw_folder_path and processed_folder_path\u001b[39;00m\n\u001b[1;32m      3\u001b[0m \u001b[39m# set at\u001b[39;00m\n\u001b[1;32m      5\u001b[0m \u001b[39mfrom\u001b[39;00m \u001b[39mcomb\u001b[39;00m\u001b[39m.\u001b[39;00m\u001b[39mbehavior_session_dataset\u001b[39;00m \u001b[39mimport\u001b[39;00m BehaviorSessionDataset\n\u001b[0;32m----> 6\u001b[0m \u001b[39mfrom\u001b[39;00m \u001b[39mcomb\u001b[39;00m\u001b[39m.\u001b[39;00m\u001b[39mophys_plane_dataset\u001b[39;00m \u001b[39mimport\u001b[39;00m OphysPlaneDataset\n\u001b[1;32m      7\u001b[0m \u001b[39mfrom\u001b[39;00m \u001b[39mcomb\u001b[39;00m\u001b[39m.\u001b[39;00m\u001b[39mutils\u001b[39;00m\u001b[39m.\u001b[39;00m\u001b[39mdataframe_utils\u001b[39;00m \u001b[39mimport\u001b[39;00m df_col_to_array\n\u001b[1;32m      9\u001b[0m \u001b[39mfrom\u001b[39;00m \u001b[39maind_ophys_data_access\u001b[39;00m \u001b[39mimport\u001b[39;00m metadata\n",
      "File \u001b[0;32m/comb/src/comb/ophys_plane_dataset.py:4\u001b[0m\n\u001b[1;32m      1\u001b[0m \u001b[39mfrom\u001b[39;00m \u001b[39mcomb\u001b[39;00m\u001b[39m.\u001b[39;00m\u001b[39mophys_plane_grabber\u001b[39;00m \u001b[39mimport\u001b[39;00m OphysPlaneGrabber\n\u001b[1;32m      2\u001b[0m \u001b[39mfrom\u001b[39;00m \u001b[39mcomb\u001b[39;00m\u001b[39m.\u001b[39;00m\u001b[39mprocessing\u001b[39;00m\u001b[39m.\u001b[39;00m\u001b[39msync\u001b[39;00m\u001b[39m.\u001b[39;00m\u001b[39msync_utilities\u001b[39;00m \u001b[39mimport\u001b[39;00m get_synchronized_frame_times\n\u001b[0;32m----> 4\u001b[0m \u001b[39mfrom\u001b[39;00m \u001b[39maind_ophys_data_access\u001b[39;00m \u001b[39mimport\u001b[39;00m metadata\n\u001b[1;32m      6\u001b[0m \u001b[39mfrom\u001b[39;00m \u001b[39m.\u001b[39;00m \u001b[39mimport\u001b[39;00m file_handling \u001b[39m# TODO change to data_access?\u001b[39;00m\n\u001b[1;32m      7\u001b[0m \u001b[39mfrom\u001b[39;00m \u001b[39maind_ophys_data_access\u001b[39;00m \u001b[39mimport\u001b[39;00m rois\n",
      "File \u001b[0;32m/aind-ophys-data-access/src/aind_ophys_data_access/__init__.py:9\u001b[0m\n\u001b[1;32m      7\u001b[0m \u001b[39mfrom\u001b[39;00m \u001b[39m.\u001b[39;00m \u001b[39mimport\u001b[39;00m pipeline\n\u001b[1;32m      8\u001b[0m \u001b[39mfrom\u001b[39;00m \u001b[39m.\u001b[39;00m \u001b[39mimport\u001b[39;00m rois\n\u001b[0;32m----> 9\u001b[0m \u001b[39mfrom\u001b[39;00m \u001b[39m.\u001b[39;00m \u001b[39mimport\u001b[39;00m make_tables\n\u001b[1;32m     10\u001b[0m \u001b[39mfrom\u001b[39;00m \u001b[39m.\u001b[39;00m \u001b[39mimport\u001b[39;00m aws\n\u001b[1;32m     12\u001b[0m __all__ \u001b[39m=\u001b[39m [\n\u001b[1;32m     13\u001b[0m     \u001b[39m\"\u001b[39m\u001b[39mroicat_utils\u001b[39m\u001b[39m\"\u001b[39m,\n\u001b[1;32m     14\u001b[0m     \u001b[39m\"\u001b[39m\u001b[39mmetadata\u001b[39m\u001b[39m\"\u001b[39m,\n\u001b[0;32m   (...)\u001b[0m\n\u001b[1;32m     19\u001b[0m     \u001b[39m\"\u001b[39m\u001b[39maws\u001b[39m\u001b[39m\"\u001b[39m\n\u001b[1;32m     20\u001b[0m ]\n",
      "File \u001b[0;32m/aind-ophys-data-access/src/aind_ophys_data_access/make_tables.py:14\u001b[0m\n\u001b[1;32m     12\u001b[0m \u001b[39mfrom\u001b[39;00m \u001b[39mcodeocean\u001b[39;00m \u001b[39mimport\u001b[39;00m CodeOcean\n\u001b[1;32m     13\u001b[0m \u001b[39mfrom\u001b[39;00m \u001b[39mcodeocean\u001b[39;00m\u001b[39m.\u001b[39;00m\u001b[39mdata_asset\u001b[39;00m \u001b[39mimport\u001b[39;00m DataAssetSearchParams\n\u001b[0;32m---> 14\u001b[0m \u001b[39mfrom\u001b[39;00m \u001b[39maind_session\u001b[39;00m \u001b[39mimport\u001b[39;00m Session\n\u001b[1;32m     15\u001b[0m \u001b[39mfrom\u001b[39;00m \u001b[39maind_ophys_data_access\u001b[39;00m \u001b[39mimport\u001b[39;00m metadata\n\u001b[1;32m     17\u001b[0m \u001b[39m####################################################################################################\u001b[39;00m\n\u001b[1;32m     18\u001b[0m \u001b[39m# AWS\u001b[39;00m\n\u001b[1;32m     19\u001b[0m \u001b[39m####################################################################################################\u001b[39;00m\n",
      "\u001b[0;31mModuleNotFoundError\u001b[0m: No module named 'aind_session'"
     ]
    }
   ],
   "source": [
    "import comb"
   ]
  },
  {
   "cell_type": "code",
   "execution_count": 2,
   "metadata": {},
   "outputs": [
    {
     "name": "stdout",
     "output_type": "stream",
     "text": [
      "\u001b[31mERROR: Could not find a version that satisfies the requirement codeocean (from versions: none)\u001b[0m\n",
      "\u001b[31mERROR: No matching distribution found for codeocean\u001b[0m\n"
     ]
    }
   ],
   "source": []
  },
  {
   "cell_type": "code",
   "execution_count": 5,
   "metadata": {},
   "outputs": [],
   "source": [
    "# notebook dev\n",
    "%load_ext autoreload\n",
    "%autoreload 2"
   ]
  },
  {
   "cell_type": "code",
   "execution_count": 43,
   "metadata": {},
   "outputs": [
    {
     "name": "stdout",
     "output_type": "stream",
     "text": [
      "/root/capsule/code\n"
     ]
    }
   ],
   "source": [
    "cd capsule/code"
   ]
  },
  {
   "cell_type": "code",
   "execution_count": 6,
   "metadata": {},
   "outputs": [],
   "source": [
    "data_folder=DATA_PATH\n",
    "results_folder=OUTPUT_PATH\n",
    "subselect=None"
   ]
  },
  {
   "cell_type": "code",
   "execution_count": 7,
   "metadata": {},
   "outputs": [],
   "source": [
    " video_path = '/root/capsule/data/multiplane-ophys_731327_2024-08-23_13-22-02/behavior-videos/1388918966_Face_20240823T132146.mp4'\n"
   ]
  },
  {
   "cell_type": "code",
   "execution_count": null,
   "metadata": {},
   "outputs": [],
   "source": []
  },
  {
   "cell_type": "code",
   "execution_count": 8,
   "metadata": {},
   "outputs": [
    {
     "name": "stdout",
     "output_type": "stream",
     "text": [
      "Processing /root/capsule/data/multiplane-ophys_731327_2024-08-23_13-22-02/behavior-videos/1388918966_Face_20240823T132146.mp4\n",
      "Found metadata file at: /root/capsule/data/multiplane-ophys_731327_2024-08-23_13-22-02/metadata.nd.json\n",
      "Saved frames and metadata in /root/capsule/results/731327_Face_430b2b85-bf69-4312-b73f-1902f1a0884e/processed_frames_zarr\n",
      "Total time taken: 187.84 seconds\n"
     ]
    }
   ],
   "source": [
    "# run_capsule code\n",
    "def run():\n",
    "    def analyze_and_save_videos(data_folder=DATA_PATH, results_folder=OUTPUT_PATH, subselect=None):\n",
    "        # Ensure results directory exists\n",
    "        if not os.path.exists(results_folder):\n",
    "            os.makedirs(results_folder)\n",
    "        \n",
    "        # Get video paths from utils\n",
    "        # video_paths = utils.get_video_paths(directory=data_folder, subselect=subselect)\n",
    "\n",
    "        start_time = time.time()  # Start the timer\n",
    "\n",
    "        # Process each video\n",
    "        video_path = '/root/capsule/data/multiplane-ophys_731327_2024-08-23_13-22-02/behavior-videos/1388918966_Face_20240823T132146.mp4'\n",
    "        # Initialize VideoLoader object with the video path\n",
    "        if 'face' in video_path.lower():\n",
    "            print(f'Processing {video_path}')\n",
    "            loader = VideoLoader(video_path=video_path)\n",
    "            \n",
    "            # Process the video (load frames, metadata, timestamps, and save results)\n",
    "            loader._process(gray=True, start_sec = None, stop_sec = None, save_dir=results_folder)\n",
    "        else:\n",
    "            print('processing only face videos for now')\n",
    "\n",
    "        end_time = time.time()  # End the timer\n",
    "        duration = end_time - start_time\n",
    "        print(f\"Total time taken: {duration:.2f} seconds\")\n",
    "\n",
    "    # Example usage with subselect\n",
    "    analyze_and_save_videos(data_folder=DATA_PATH, results_folder=OUTPUT_PATH, subselect='multiplane')\n",
    "\n",
    "if __name__ == \"__main__\":\n",
    "    run()\n"
   ]
  },
  {
   "cell_type": "code",
   "execution_count": 24,
   "metadata": {},
   "outputs": [
    {
     "data": {
      "text/plain": [
       "<VideoLoader.VideoLoader at 0x7f8b0c502e50>"
      ]
     },
     "execution_count": 24,
     "metadata": {},
     "output_type": "execute_result"
    }
   ],
   "source": [
    "loader"
   ]
  },
  {
   "cell_type": "code",
   "execution_count": null,
   "metadata": {},
   "outputs": [],
   "source": []
  }
 ],
 "metadata": {
  "kernelspec": {
   "display_name": "base",
   "language": "python",
   "name": "python3"
  },
  "language_info": {
   "codemirror_mode": {
    "name": "ipython",
    "version": 3
   },
   "file_extension": ".py",
   "mimetype": "text/x-python",
   "name": "python",
   "nbconvert_exporter": "python",
   "pygments_lexer": "ipython3",
   "version": "3.9.12"
  },
  "orig_nbformat": 4,
  "vscode": {
   "interpreter": {
    "hash": "d4d1e4263499bec80672ea0156c357c1ee493ec2b1c70f0acce89fc37c4a6abe"
   }
  }
 },
 "nbformat": 4,
 "nbformat_minor": 2
}
