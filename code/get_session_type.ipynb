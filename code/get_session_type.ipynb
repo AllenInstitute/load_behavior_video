{
 "cells": [
  {
   "cell_type": "code",
   "execution_count": 3,
   "metadata": {},
   "outputs": [
    {
     "name": "stderr",
     "output_type": "stream",
     "text": [
      "INFO:matplotlib.font_manager:generated new fontManager\n"
     ]
    }
   ],
   "source": [
    "import numpy as np\n",
    "import matplotlib\n",
    "import utils\n",
    "# notebook dev\n",
    "%load_ext autoreload\n",
    "%autoreload 2\n",
    "%matplotlib inline"
   ]
  },
  {
   "cell_type": "code",
   "execution_count": 4,
   "metadata": {},
   "outputs": [],
   "source": [
    "#!pip install pandas, matplotlib\n"
   ]
  },
  {
   "cell_type": "code",
   "execution_count": 5,
   "metadata": {},
   "outputs": [
    {
     "name": "stderr",
     "output_type": "stream",
     "text": [
      "Searching for videos in /root/capsule/data: 0it [00:00, ?it/s]\n",
      "Searching for videos in /root/capsule/data/multiplane-ophys_736963_2024-07-09_09-13-58: 100%|██████████| 7/7 [00:00<00:00, 119837.26it/s]\n",
      "Searching for videos in /root/capsule/data/multiplane-ophys_736963_2024-07-09_09-13-58/behavior: 100%|██████████| 3/3 [00:00<00:00, 62914.56it/s]\n",
      "Searching for videos in /root/capsule/data/multiplane-ophys_736963_2024-07-09_09-13-58/pophys: 100%|██████████| 6/6 [00:00<00:00, 86778.70it/s]\n",
      "Searching for videos in /root/capsule/data/multiplane-ophys_736963_2024-07-09_09-13-58/pophys/VISp_0: 100%|██████████| 4/4 [00:00<00:00, 62601.55it/s]\n",
      "Searching for videos in /root/capsule/data/multiplane-ophys_736963_2024-07-09_09-13-58/pophys/VISp_6: 100%|██████████| 4/4 [00:00<00:00, 46474.28it/s]\n",
      "Searching for videos in /root/capsule/data/multiplane-ophys_736963_2024-07-09_09-13-58/pophys/VISp_1: 100%|██████████| 4/4 [00:00<00:00, 66052.03it/s]\n",
      "Searching for videos in /root/capsule/data/multiplane-ophys_736963_2024-07-09_09-13-58/pophys/VISp_7: 100%|██████████| 4/4 [00:00<00:00, 89240.51it/s]\n",
      "Searching for videos in /root/capsule/data/multiplane-ophys_736963_2024-07-09_09-13-58/pophys/VISp_3: 100%|██████████| 4/4 [00:00<00:00, 90200.09it/s]\n",
      "Searching for videos in /root/capsule/data/multiplane-ophys_736963_2024-07-09_09-13-58/pophys/VISp_4: 100%|██████████| 4/4 [00:00<00:00, 93206.76it/s]\n",
      "Searching for videos in /root/capsule/data/multiplane-ophys_736963_2024-07-09_09-13-58/pophys/VISp_2: 100%|██████████| 4/4 [00:00<00:00, 91678.78it/s]\n",
      "Searching for videos in /root/capsule/data/multiplane-ophys_736963_2024-07-09_09-13-58/pophys/VISp_5: 100%|██████████| 4/4 [00:00<00:00, 95869.81it/s]\n",
      "Searching for videos in /root/capsule/data/multiplane-ophys_736963_2024-07-09_09-13-58/original_metadata: 100%|██████████| 6/6 [00:00<00:00, 131072.00it/s]\n",
      "Searching for videos in /root/capsule/data/multiplane-ophys_736963_2024-07-09_09-13-58/behavior-videos: 100%|██████████| 6/6 [00:00<00:00, 62137.84it/s]\n"
     ]
    },
    {
     "name": "stdout",
     "output_type": "stream",
     "text": [
      "Found video file: /root/capsule/data/multiplane-ophys_736963_2024-07-09_09-13-58/behavior-videos/1378956881_Face_20240709T091346.mp4\n",
      "Found video file: /root/capsule/data/multiplane-ophys_736963_2024-07-09_09-13-58/behavior-videos/1378956881_Behavior_20240709T091346.mp4\n",
      "Found video file: /root/capsule/data/multiplane-ophys_736963_2024-07-09_09-13-58/behavior-videos/1378956881_Eye_20240709T091346.mp4\n"
     ]
    },
    {
     "name": "stderr",
     "output_type": "stream",
     "text": [
      "Searching for videos in /root/capsule/data/multiplane-ophys_736963_2024-07-23_08-57-56: 100%|██████████| 7/7 [00:00<00:00, 115591.06it/s]\n",
      "Searching for videos in /root/capsule/data/multiplane-ophys_736963_2024-07-23_08-57-56/original_metadata: 100%|██████████| 6/6 [00:00<00:00, 102300.10it/s]\n",
      "Searching for videos in /root/capsule/data/multiplane-ophys_736963_2024-07-23_08-57-56/behavior-videos: 100%|██████████| 6/6 [00:00<00:00, 62446.21it/s]\n"
     ]
    },
    {
     "name": "stdout",
     "output_type": "stream",
     "text": [
      "Found video file: /root/capsule/data/multiplane-ophys_736963_2024-07-23_08-57-56/behavior-videos/1382027525_Behavior_20240723T085746.mp4\n",
      "Found video file: /root/capsule/data/multiplane-ophys_736963_2024-07-23_08-57-56/behavior-videos/1382027525_Eye_20240723T085746.mp4\n",
      "Found video file: /root/capsule/data/multiplane-ophys_736963_2024-07-23_08-57-56/behavior-videos/1382027525_Face_20240723T085746.mp4\n"
     ]
    },
    {
     "name": "stderr",
     "output_type": "stream",
     "text": [
      "Searching for videos in /root/capsule/data/multiplane-ophys_736963_2024-07-23_08-57-56/pophys: 100%|██████████| 5/5 [00:00<00:00, 87018.76it/s]\n",
      "Searching for videos in /root/capsule/data/multiplane-ophys_736963_2024-07-23_08-57-56/pophys/VISp_0: 100%|██████████| 4/4 [00:00<00:00, 71089.90it/s]\n",
      "Searching for videos in /root/capsule/data/multiplane-ophys_736963_2024-07-23_08-57-56/pophys/VISp_2: 100%|██████████| 4/4 [00:00<00:00, 67923.95it/s]\n",
      "Searching for videos in /root/capsule/data/multiplane-ophys_736963_2024-07-23_08-57-56/pophys/VISp_3: 100%|██████████| 4/4 [00:00<00:00, 70492.50it/s]\n",
      "Searching for videos in /root/capsule/data/multiplane-ophys_736963_2024-07-23_08-57-56/pophys/VISp_1: 100%|██████████| 4/4 [00:00<00:00, 69327.34it/s]\n",
      "Searching for videos in /root/capsule/data/multiplane-ophys_736963_2024-07-23_08-57-56/pophys/VISp_6: 100%|██████████| 4/4 [00:00<00:00, 70492.50it/s]\n",
      "Searching for videos in /root/capsule/data/multiplane-ophys_736963_2024-07-23_08-57-56/pophys/VISp_7: 100%|██████████| 4/4 [00:00<00:00, 70492.50it/s]\n",
      "Searching for videos in /root/capsule/data/multiplane-ophys_736963_2024-07-23_08-57-56/pophys/VISp_5: 100%|██████████| 4/4 [00:00<00:00, 69327.34it/s]\n",
      "Searching for videos in /root/capsule/data/multiplane-ophys_736963_2024-07-23_08-57-56/pophys/VISp_4: 100%|██████████| 4/4 [00:00<00:00, 70492.50it/s]\n",
      "Searching for videos in /root/capsule/data/multiplane-ophys_736963_2024-07-23_08-57-56/behavior: 100%|██████████| 3/3 [00:00<00:00, 40986.68it/s]\n",
      "Searching for videos in /root/capsule/data/multiplane-ophys_736963_2024-08-29_10-20-27: 100%|██████████| 7/7 [00:00<00:00, 120823.57it/s]\n",
      "Searching for videos in /root/capsule/data/multiplane-ophys_736963_2024-08-29_10-20-27/behavior: 100%|██████████| 3/3 [00:00<00:00, 53092.46it/s]\n",
      "Searching for videos in /root/capsule/data/multiplane-ophys_736963_2024-08-29_10-20-27/behavior-videos: 100%|██████████| 6/6 [00:00<00:00, 61832.49it/s]\n"
     ]
    },
    {
     "name": "stdout",
     "output_type": "stream",
     "text": [
      "Found video file: /root/capsule/data/multiplane-ophys_736963_2024-08-29_10-20-27/behavior-videos/1390264319_Behavior_20240829T102016.mp4\n",
      "Found video file: /root/capsule/data/multiplane-ophys_736963_2024-08-29_10-20-27/behavior-videos/1390264319_Eye_20240829T102017.mp4\n",
      "Found video file: /root/capsule/data/multiplane-ophys_736963_2024-08-29_10-20-27/behavior-videos/1390264319_Face_20240829T102017.mp4\n"
     ]
    },
    {
     "name": "stderr",
     "output_type": "stream",
     "text": [
      "Searching for videos in /root/capsule/data/multiplane-ophys_736963_2024-08-29_10-20-27/pophys: 100%|██████████| 5/5 [00:00<00:00, 90785.80it/s]\n",
      "Searching for videos in /root/capsule/data/multiplane-ophys_736963_2024-08-29_10-20-27/pophys/VISp_0: 100%|██████████| 4/4 [00:00<00:00, 61908.55it/s]\n",
      "Searching for videos in /root/capsule/data/multiplane-ophys_736963_2024-08-29_10-20-27/pophys/VISp_6: 100%|██████████| 4/4 [00:00<00:00, 87381.33it/s]\n",
      "Searching for videos in /root/capsule/data/multiplane-ophys_736963_2024-08-29_10-20-27/pophys/VISp_3: 100%|██████████| 4/4 [00:00<00:00, 91180.52it/s]\n",
      "Searching for videos in /root/capsule/data/multiplane-ophys_736963_2024-08-29_10-20-27/pophys/VISp_5: 100%|██████████| 4/4 [00:00<00:00, 92182.51it/s]\n",
      "Searching for videos in /root/capsule/data/multiplane-ophys_736963_2024-08-29_10-20-27/pophys/VISp_4: 100%|██████████| 4/4 [00:00<00:00, 91678.78it/s]\n",
      "Searching for videos in /root/capsule/data/multiplane-ophys_736963_2024-08-29_10-20-27/pophys/VISp_1: 100%|██████████| 4/4 [00:00<00:00, 92691.80it/s]\n",
      "Searching for videos in /root/capsule/data/multiplane-ophys_736963_2024-08-29_10-20-27/pophys/VISp_7: 100%|██████████| 4/4 [00:00<00:00, 91180.52it/s]\n",
      "Searching for videos in /root/capsule/data/multiplane-ophys_736963_2024-08-29_10-20-27/pophys/VISp_2: 100%|██████████| 4/4 [00:00<00:00, 86480.49it/s]\n",
      "Searching for videos in /root/capsule/data/multiplane-ophys_736963_2024-08-29_10-20-27/original_metadata: 100%|██████████| 6/6 [00:00<00:00, 131072.00it/s]\n",
      "Searching for videos in /root/capsule/data/multiplane-ophys_736963_2024-07-16_09-17-44: 100%|██████████| 7/7 [00:00<00:00, 151340.87it/s]\n",
      "Searching for videos in /root/capsule/data/multiplane-ophys_736963_2024-07-16_09-17-44/behavior-videos: 100%|██████████| 6/6 [00:00<00:00, 73369.75it/s]\n"
     ]
    },
    {
     "name": "stdout",
     "output_type": "stream",
     "text": [
      "Found video file: /root/capsule/data/multiplane-ophys_736963_2024-07-16_09-17-44/behavior-videos/1380419079_Eye_20240716T091732.mp4\n",
      "Found video file: /root/capsule/data/multiplane-ophys_736963_2024-07-16_09-17-44/behavior-videos/1380419079_Face_20240716T091732.mp4\n",
      "Found video file: /root/capsule/data/multiplane-ophys_736963_2024-07-16_09-17-44/behavior-videos/1380419079_Behavior_20240716T091732.mp4\n"
     ]
    },
    {
     "name": "stderr",
     "output_type": "stream",
     "text": [
      "Searching for videos in /root/capsule/data/multiplane-ophys_736963_2024-07-16_09-17-44/behavior: 100%|██████████| 3/3 [00:00<00:00, 68385.39it/s]\n",
      "Searching for videos in /root/capsule/data/multiplane-ophys_736963_2024-07-16_09-17-44/pophys: 100%|██████████| 5/5 [00:00<00:00, 112750.11it/s]\n",
      "Searching for videos in /root/capsule/data/multiplane-ophys_736963_2024-07-16_09-17-44/pophys/VISp_5: 100%|██████████| 4/4 [00:00<00:00, 80659.69it/s]\n",
      "Searching for videos in /root/capsule/data/multiplane-ophys_736963_2024-07-16_09-17-44/pophys/VISp_7: 100%|██████████| 4/4 [00:00<00:00, 88768.34it/s]\n",
      "Searching for videos in /root/capsule/data/multiplane-ophys_736963_2024-07-16_09-17-44/pophys/VISp_2: 100%|██████████| 4/4 [00:00<00:00, 89717.73it/s]\n",
      "Searching for videos in /root/capsule/data/multiplane-ophys_736963_2024-07-16_09-17-44/pophys/VISp_3: 100%|██████████| 4/4 [00:00<00:00, 91678.78it/s]\n",
      "Searching for videos in /root/capsule/data/multiplane-ophys_736963_2024-07-16_09-17-44/pophys/VISp_1: 100%|██████████| 4/4 [00:00<00:00, 86928.58it/s]\n",
      "Searching for videos in /root/capsule/data/multiplane-ophys_736963_2024-07-16_09-17-44/pophys/VISp_6: 100%|██████████| 4/4 [00:00<00:00, 88301.14it/s]\n",
      "Searching for videos in /root/capsule/data/multiplane-ophys_736963_2024-07-16_09-17-44/pophys/VISp_4: 100%|██████████| 4/4 [00:00<00:00, 88768.34it/s]\n",
      "Searching for videos in /root/capsule/data/multiplane-ophys_736963_2024-07-16_09-17-44/pophys/VISp_0: 100%|██████████| 4/4 [00:00<00:00, 89717.73it/s]\n",
      "Searching for videos in /root/capsule/data/multiplane-ophys_736963_2024-07-16_09-17-44/original_metadata: 100%|██████████| 6/6 [00:00<00:00, 96052.76it/s]\n",
      "Searching for videos in /root/capsule/data/multiplane-ophys_736963_2024-07-10_09-02-58: 100%|██████████| 7/7 [00:00<00:00, 148283.47it/s]\n",
      "Searching for videos in /root/capsule/data/multiplane-ophys_736963_2024-07-10_09-02-58/pophys: 100%|██████████| 5/5 [00:00<00:00, 110960.42it/s]\n",
      "Searching for videos in /root/capsule/data/multiplane-ophys_736963_2024-07-10_09-02-58/pophys/VISp_1: 100%|██████████| 4/4 [00:00<00:00, 83468.74it/s]\n",
      "Searching for videos in /root/capsule/data/multiplane-ophys_736963_2024-07-10_09-02-58/pophys/VISp_3: 100%|██████████| 4/4 [00:00<00:00, 91678.78it/s]\n",
      "Searching for videos in /root/capsule/data/multiplane-ophys_736963_2024-07-10_09-02-58/pophys/VISp_0: 100%|██████████| 4/4 [00:00<00:00, 91180.52it/s]\n",
      "Searching for videos in /root/capsule/data/multiplane-ophys_736963_2024-07-10_09-02-58/pophys/VISp_6: 100%|██████████| 4/4 [00:00<00:00, 94786.53it/s]\n",
      "Searching for videos in /root/capsule/data/multiplane-ophys_736963_2024-07-10_09-02-58/pophys/VISp_5: 100%|██████████| 4/4 [00:00<00:00, 86037.01it/s]\n",
      "Searching for videos in /root/capsule/data/multiplane-ophys_736963_2024-07-10_09-02-58/pophys/VISp_2: 100%|██████████| 4/4 [00:00<00:00, 85163.53it/s]\n",
      "Searching for videos in /root/capsule/data/multiplane-ophys_736963_2024-07-10_09-02-58/pophys/VISp_7: 100%|██████████| 4/4 [00:00<00:00, 83468.74it/s]\n",
      "Searching for videos in /root/capsule/data/multiplane-ophys_736963_2024-07-10_09-02-58/pophys/VISp_4: 100%|██████████| 4/4 [00:00<00:00, 91180.52it/s]\n",
      "Searching for videos in /root/capsule/data/multiplane-ophys_736963_2024-07-10_09-02-58/original_metadata: 100%|██████████| 6/6 [00:00<00:00, 132451.71it/s]\n",
      "Searching for videos in /root/capsule/data/multiplane-ophys_736963_2024-07-10_09-02-58/behavior-videos: 100%|██████████| 6/6 [00:00<00:00, 79387.46it/s]\n"
     ]
    },
    {
     "name": "stdout",
     "output_type": "stream",
     "text": [
      "Found video file: /root/capsule/data/multiplane-ophys_736963_2024-07-10_09-02-58/behavior-videos/1379175259_Face_20240710T090245.mp4\n",
      "Found video file: /root/capsule/data/multiplane-ophys_736963_2024-07-10_09-02-58/behavior-videos/1379175259_Behavior_20240710T090244.mp4\n",
      "Found video file: /root/capsule/data/multiplane-ophys_736963_2024-07-10_09-02-58/behavior-videos/1379175259_Eye_20240710T090244.mp4\n"
     ]
    },
    {
     "name": "stderr",
     "output_type": "stream",
     "text": [
      "Searching for videos in /root/capsule/data/multiplane-ophys_736963_2024-07-10_09-02-58/behavior: 100%|██████████| 3/3 [00:00<00:00, 68015.74it/s]\n",
      "Searching for videos in /root/capsule/data/multiplane-ophys_736963_2024-07-30_09-11-03: 100%|██████████| 7/7 [00:00<00:00, 152917.33it/s]\n",
      "Searching for videos in /root/capsule/data/multiplane-ophys_736963_2024-07-30_09-11-03/behavior: 100%|██████████| 3/3 [00:00<00:00, 66576.25it/s]\n",
      "Searching for videos in /root/capsule/data/multiplane-ophys_736963_2024-07-30_09-11-03/behavior-videos: 100%|██████████| 6/6 [00:00<00:00, 76260.07it/s]\n"
     ]
    },
    {
     "name": "stdout",
     "output_type": "stream",
     "text": [
      "Found video file: /root/capsule/data/multiplane-ophys_736963_2024-07-30_09-11-03/behavior-videos/1383361530_Behavior_20240730T091051.mp4\n",
      "Found video file: /root/capsule/data/multiplane-ophys_736963_2024-07-30_09-11-03/behavior-videos/1383361530_Eye_20240730T091051.mp4\n",
      "Found video file: /root/capsule/data/multiplane-ophys_736963_2024-07-30_09-11-03/behavior-videos/1383361530_Face_20240730T091051.mp4\n"
     ]
    },
    {
     "name": "stderr",
     "output_type": "stream",
     "text": [
      "Searching for videos in /root/capsule/data/multiplane-ophys_736963_2024-07-30_09-11-03/pophys: 100%|██████████| 5/5 [00:00<00:00, 76260.07it/s]\n",
      "Searching for videos in /root/capsule/data/multiplane-ophys_736963_2024-07-30_09-11-03/pophys/VISp_0: 100%|██████████| 4/4 [00:00<00:00, 94786.53it/s]\n",
      "Searching for videos in /root/capsule/data/multiplane-ophys_736963_2024-07-30_09-11-03/pophys/VISp_4: 100%|██████████| 4/4 [00:00<00:00, 83886.08it/s]\n",
      "Searching for videos in /root/capsule/data/multiplane-ophys_736963_2024-07-30_09-11-03/pophys/VISp_5: 100%|██████████| 4/4 [00:00<00:00, 92691.80it/s]\n",
      "Searching for videos in /root/capsule/data/multiplane-ophys_736963_2024-07-30_09-11-03/pophys/VISp_7: 100%|██████████| 4/4 [00:00<00:00, 74898.29it/s]\n",
      "Searching for videos in /root/capsule/data/multiplane-ophys_736963_2024-07-30_09-11-03/pophys/VISp_3: 100%|██████████| 4/4 [00:00<00:00, 78398.21it/s]\n",
      "Searching for videos in /root/capsule/data/multiplane-ophys_736963_2024-07-30_09-11-03/pophys/VISp_1: 100%|██████████| 4/4 [00:00<00:00, 69327.34it/s]\n",
      "Searching for videos in /root/capsule/data/multiplane-ophys_736963_2024-07-30_09-11-03/pophys/VISp_2: 100%|██████████| 4/4 [00:00<00:00, 92691.80it/s]\n",
      "Searching for videos in /root/capsule/data/multiplane-ophys_736963_2024-07-30_09-11-03/pophys/VISp_6: 100%|██████████| 4/4 [00:00<00:00, 93206.76it/s]\n",
      "Searching for videos in /root/capsule/data/multiplane-ophys_736963_2024-07-30_09-11-03/original_metadata: 100%|██████████| 6/6 [00:00<00:00, 131758.24it/s]\n",
      "Searching for videos in /root/capsule/data/multiplane-ophys_736963_2024-08-26_09-54-51: 100%|██████████| 7/7 [00:00<00:00, 157850.15it/s]\n",
      "Searching for videos in /root/capsule/data/multiplane-ophys_736963_2024-08-26_09-54-51/original_metadata: 100%|██████████| 6/6 [00:00<00:00, 138273.76it/s]\n",
      "Searching for videos in /root/capsule/data/multiplane-ophys_736963_2024-08-26_09-54-51/behavior: 100%|██████████| 3/3 [00:00<00:00, 60787.01it/s]\n",
      "Searching for videos in /root/capsule/data/multiplane-ophys_736963_2024-08-26_09-54-51/pophys: 100%|██████████| 5/5 [00:00<00:00, 110376.42it/s]\n",
      "Searching for videos in /root/capsule/data/multiplane-ophys_736963_2024-08-26_09-54-51/pophys/VISp_6: 100%|██████████| 4/4 [00:00<00:00, 92182.51it/s]\n",
      "Searching for videos in /root/capsule/data/multiplane-ophys_736963_2024-08-26_09-54-51/pophys/VISp_4: 100%|██████████| 4/4 [00:00<00:00, 80273.76it/s]\n",
      "Searching for videos in /root/capsule/data/multiplane-ophys_736963_2024-08-26_09-54-51/pophys/VISp_1: 100%|██████████| 4/4 [00:00<00:00, 85163.53it/s]\n",
      "Searching for videos in /root/capsule/data/multiplane-ophys_736963_2024-08-26_09-54-51/pophys/VISp_5: 100%|██████████| 4/4 [00:00<00:00, 92691.80it/s]\n",
      "Searching for videos in /root/capsule/data/multiplane-ophys_736963_2024-08-26_09-54-51/pophys/VISp_7: 100%|██████████| 4/4 [00:00<00:00, 91678.78it/s]\n",
      "Searching for videos in /root/capsule/data/multiplane-ophys_736963_2024-08-26_09-54-51/pophys/VISp_0: 100%|██████████| 4/4 [00:00<00:00, 91678.78it/s]\n",
      "Searching for videos in /root/capsule/data/multiplane-ophys_736963_2024-08-26_09-54-51/pophys/VISp_2: 100%|██████████| 4/4 [00:00<00:00, 92691.80it/s]\n",
      "Searching for videos in /root/capsule/data/multiplane-ophys_736963_2024-08-26_09-54-51/pophys/VISp_3: 100%|██████████| 4/4 [00:00<00:00, 91678.78it/s]\n",
      "Searching for videos in /root/capsule/data/multiplane-ophys_736963_2024-08-26_09-54-51/behavior-videos: 100%|██████████| 6/6 [00:00<00:00, 75346.78it/s]\n"
     ]
    },
    {
     "name": "stdout",
     "output_type": "stream",
     "text": [
      "Found video file: /root/capsule/data/multiplane-ophys_736963_2024-08-26_09-54-51/behavior-videos/1389490627_Face_20240826T095439.mp4\n",
      "Found video file: /root/capsule/data/multiplane-ophys_736963_2024-08-26_09-54-51/behavior-videos/1389490627_Behavior_20240826T095439.mp4\n",
      "Found video file: /root/capsule/data/multiplane-ophys_736963_2024-08-26_09-54-51/behavior-videos/1389490627_Eye_20240826T095439.mp4\n"
     ]
    },
    {
     "name": "stderr",
     "output_type": "stream",
     "text": [
      "Searching for videos in /root/capsule/data/multiplane-ophys_736963_2024-08-13_08-57-29: 100%|██████████| 7/7 [00:00<00:00, 155344.59it/s]\n",
      "Searching for videos in /root/capsule/data/multiplane-ophys_736963_2024-08-13_08-57-29/behavior: 100%|██████████| 3/3 [00:00<00:00, 69905.07it/s]\n",
      "Searching for videos in /root/capsule/data/multiplane-ophys_736963_2024-08-13_08-57-29/original_metadata: 100%|██████████| 6/6 [00:00<00:00, 128397.06it/s]\n",
      "Searching for videos in /root/capsule/data/multiplane-ophys_736963_2024-08-13_08-57-29/pophys: 100%|██████████| 5/5 [00:00<00:00, 115864.75it/s]\n",
      "Searching for videos in /root/capsule/data/multiplane-ophys_736963_2024-08-13_08-57-29/pophys/VISp_5: 100%|██████████| 4/4 [00:00<00:00, 91180.52it/s]\n",
      "Searching for videos in /root/capsule/data/multiplane-ophys_736963_2024-08-13_08-57-29/pophys/VISp_2: 100%|██████████| 4/4 [00:00<00:00, 93206.76it/s]\n",
      "Searching for videos in /root/capsule/data/multiplane-ophys_736963_2024-08-13_08-57-29/pophys/VISp_3: 100%|██████████| 4/4 [00:00<00:00, 90687.65it/s]\n",
      "Searching for videos in /root/capsule/data/multiplane-ophys_736963_2024-08-13_08-57-29/pophys/VISp_7: 100%|██████████| 4/4 [00:00<00:00, 92691.80it/s]\n",
      "Searching for videos in /root/capsule/data/multiplane-ophys_736963_2024-08-13_08-57-29/pophys/VISp_1: 100%|██████████| 4/4 [00:00<00:00, 93727.46it/s]\n",
      "Searching for videos in /root/capsule/data/multiplane-ophys_736963_2024-08-13_08-57-29/pophys/VISp_0: 100%|██████████| 4/4 [00:00<00:00, 88301.14it/s]\n",
      "Searching for videos in /root/capsule/data/multiplane-ophys_736963_2024-08-13_08-57-29/pophys/VISp_4: 100%|██████████| 4/4 [00:00<00:00, 94254.02it/s]\n",
      "Searching for videos in /root/capsule/data/multiplane-ophys_736963_2024-08-13_08-57-29/pophys/VISp_6: 100%|██████████| 4/4 [00:00<00:00, 93206.76it/s]\n",
      "Searching for videos in /root/capsule/data/multiplane-ophys_736963_2024-08-13_08-57-29/behavior-videos: 100%|██████████| 6/6 [00:00<00:00, 76725.07it/s]\n"
     ]
    },
    {
     "name": "stdout",
     "output_type": "stream",
     "text": [
      "Found video file: /root/capsule/data/multiplane-ophys_736963_2024-08-13_08-57-29/behavior-videos/1386564013_Eye_20240813T085717.mp4\n",
      "Found video file: /root/capsule/data/multiplane-ophys_736963_2024-08-13_08-57-29/behavior-videos/1386564013_Face_20240813T085718.mp4\n",
      "Found video file: /root/capsule/data/multiplane-ophys_736963_2024-08-13_08-57-29/behavior-videos/1386564013_Behavior_20240813T085717.mp4\n"
     ]
    },
    {
     "name": "stderr",
     "output_type": "stream",
     "text": [
      "Searching for videos in /root/capsule/data/multiplane-ophys_736963_2024-08-06_08-52-03: 100%|██████████| 7/7 [00:00<00:00, 159565.91it/s]\n",
      "Searching for videos in /root/capsule/data/multiplane-ophys_736963_2024-08-06_08-52-03/pophys: 100%|██████████| 5/5 [00:00<00:00, 115864.75it/s]\n",
      "Searching for videos in /root/capsule/data/multiplane-ophys_736963_2024-08-06_08-52-03/pophys/VISp_1: 100%|██████████| 4/4 [00:00<00:00, 94786.53it/s]\n",
      "Searching for videos in /root/capsule/data/multiplane-ophys_736963_2024-08-06_08-52-03/pophys/VISp_3: 100%|██████████| 4/4 [00:00<00:00, 92182.51it/s]\n",
      "Searching for videos in /root/capsule/data/multiplane-ophys_736963_2024-08-06_08-52-03/pophys/VISp_0: 100%|██████████| 4/4 [00:00<00:00, 94254.02it/s]\n",
      "Searching for videos in /root/capsule/data/multiplane-ophys_736963_2024-08-06_08-52-03/pophys/VISp_4: 100%|██████████| 4/4 [00:00<00:00, 93206.76it/s]\n",
      "Searching for videos in /root/capsule/data/multiplane-ophys_736963_2024-08-06_08-52-03/pophys/VISp_5: 100%|██████████| 4/4 [00:00<00:00, 94254.02it/s]\n",
      "Searching for videos in /root/capsule/data/multiplane-ophys_736963_2024-08-06_08-52-03/pophys/VISp_2: 100%|██████████| 4/4 [00:00<00:00, 71089.90it/s]\n",
      "Searching for videos in /root/capsule/data/multiplane-ophys_736963_2024-08-06_08-52-03/pophys/VISp_6: 100%|██████████| 4/4 [00:00<00:00, 79137.81it/s]\n",
      "Searching for videos in /root/capsule/data/multiplane-ophys_736963_2024-08-06_08-52-03/pophys/VISp_7: 100%|██████████| 4/4 [00:00<00:00, 77314.36it/s]\n",
      "Searching for videos in /root/capsule/data/multiplane-ophys_736963_2024-08-06_08-52-03/behavior: 100%|██████████| 3/3 [00:00<00:00, 66225.85it/s]\n",
      "Searching for videos in /root/capsule/data/multiplane-ophys_736963_2024-08-06_08-52-03/original_metadata: 100%|██████████| 6/6 [00:00<00:00, 131072.00it/s]\n",
      "Searching for videos in /root/capsule/data/multiplane-ophys_736963_2024-08-06_08-52-03/behavior-videos: 100%|██████████| 6/6 [00:00<00:00, 78643.20it/s]\n"
     ]
    },
    {
     "name": "stdout",
     "output_type": "stream",
     "text": [
      "Found video file: /root/capsule/data/multiplane-ophys_736963_2024-08-06_08-52-03/behavior-videos/1385001780_Face_20240806T085149.mp4\n",
      "Found video file: /root/capsule/data/multiplane-ophys_736963_2024-08-06_08-52-03/behavior-videos/1385001780_Behavior_20240806T085149.mp4\n",
      "Found video file: /root/capsule/data/multiplane-ophys_736963_2024-08-06_08-52-03/behavior-videos/1385001780_Eye_20240806T085149.mp4\n"
     ]
    },
    {
     "name": "stderr",
     "output_type": "stream",
     "text": [
      "Searching for videos in /root/capsule/data/multiplane-ophys_736963_2024-07-15_09-23-32: 100%|██████████| 7/7 [00:00<00:00, 156170.89it/s]\n",
      "Searching for videos in /root/capsule/data/multiplane-ophys_736963_2024-07-15_09-23-32/behavior: 100%|██████████| 3/3 [00:00<00:00, 68759.08it/s]\n",
      "Searching for videos in /root/capsule/data/multiplane-ophys_736963_2024-07-15_09-23-32/original_metadata: 100%|██████████| 6/6 [00:00<00:00, 88612.06it/s]\n",
      "Searching for videos in /root/capsule/data/multiplane-ophys_736963_2024-07-15_09-23-32/behavior-videos: 100%|██████████| 6/6 [00:00<00:00, 77672.30it/s]\n"
     ]
    },
    {
     "name": "stdout",
     "output_type": "stream",
     "text": [
      "Found video file: /root/capsule/data/multiplane-ophys_736963_2024-07-15_09-23-32/behavior-videos/1380217922_Behavior_20240715T092320.mp4\n",
      "Found video file: /root/capsule/data/multiplane-ophys_736963_2024-07-15_09-23-32/behavior-videos/1380217922_Eye_20240715T092320.mp4\n",
      "Found video file: /root/capsule/data/multiplane-ophys_736963_2024-07-15_09-23-32/behavior-videos/1380217922_Face_20240715T092321.mp4\n"
     ]
    },
    {
     "name": "stderr",
     "output_type": "stream",
     "text": [
      "Searching for videos in /root/capsule/data/multiplane-ophys_736963_2024-07-15_09-23-32/pophys: 100%|██████████| 5/5 [00:00<00:00, 110376.42it/s]\n",
      "Searching for videos in /root/capsule/data/multiplane-ophys_736963_2024-07-15_09-23-32/pophys/VISp_1: 100%|██████████| 4/4 [00:00<00:00, 89240.51it/s]\n",
      "Searching for videos in /root/capsule/data/multiplane-ophys_736963_2024-07-15_09-23-32/pophys/VISp_3: 100%|██████████| 4/4 [00:00<00:00, 86480.49it/s]\n",
      "Searching for videos in /root/capsule/data/multiplane-ophys_736963_2024-07-15_09-23-32/pophys/VISp_5: 100%|██████████| 4/4 [00:00<00:00, 85598.04it/s]\n",
      "Searching for videos in /root/capsule/data/multiplane-ophys_736963_2024-07-15_09-23-32/pophys/VISp_2: 100%|██████████| 4/4 [00:00<00:00, 89240.51it/s]\n",
      "Searching for videos in /root/capsule/data/multiplane-ophys_736963_2024-07-15_09-23-32/pophys/VISp_0: 100%|██████████| 4/4 [00:00<00:00, 93727.46it/s]\n",
      "Searching for videos in /root/capsule/data/multiplane-ophys_736963_2024-07-15_09-23-32/pophys/VISp_4: 100%|██████████| 4/4 [00:00<00:00, 89240.51it/s]\n",
      "Searching for videos in /root/capsule/data/multiplane-ophys_736963_2024-07-15_09-23-32/pophys/VISp_6: 100%|██████████| 4/4 [00:00<00:00, 51781.53it/s]\n",
      "Searching for videos in /root/capsule/data/multiplane-ophys_736963_2024-07-15_09-23-32/pophys/VISp_7: 100%|██████████| 4/4 [00:00<00:00, 61230.72it/s]\n",
      "Searching for videos in /root/capsule/data/multiplane-ophys_736963_2024-07-19_09-14-01: 100%|██████████| 7/7 [00:00<00:00, 127652.73it/s]\n",
      "Searching for videos in /root/capsule/data/multiplane-ophys_736963_2024-07-19_09-14-01/behavior-videos: 100%|██████████| 6/6 [00:00<00:00, 57985.77it/s]\n"
     ]
    },
    {
     "name": "stdout",
     "output_type": "stream",
     "text": [
      "Found video file: /root/capsule/data/multiplane-ophys_736963_2024-07-19_09-14-01/behavior-videos/1381229299_Behavior_20240719T091347.mp4\n",
      "Found video file: /root/capsule/data/multiplane-ophys_736963_2024-07-19_09-14-01/behavior-videos/1381229299_Eye_20240719T091348.mp4\n",
      "Found video file: /root/capsule/data/multiplane-ophys_736963_2024-07-19_09-14-01/behavior-videos/1381229299_Face_20240719T091348.mp4\n"
     ]
    },
    {
     "name": "stderr",
     "output_type": "stream",
     "text": [
      "Searching for videos in /root/capsule/data/multiplane-ophys_736963_2024-07-19_09-14-01/pophys: 100%|██████████| 5/5 [00:00<00:00, 67216.41it/s]\n",
      "Searching for videos in /root/capsule/data/multiplane-ophys_736963_2024-07-19_09-14-01/pophys/VISp_7: 100%|██████████| 4/4 [00:00<00:00, 90200.09it/s]\n",
      "Searching for videos in /root/capsule/data/multiplane-ophys_736963_2024-07-19_09-14-01/pophys/VISp_2: 100%|██████████| 4/4 [00:00<00:00, 92691.80it/s]\n",
      "Searching for videos in /root/capsule/data/multiplane-ophys_736963_2024-07-19_09-14-01/pophys/VISp_6: 100%|██████████| 4/4 [00:00<00:00, 79891.50it/s]\n",
      "Searching for videos in /root/capsule/data/multiplane-ophys_736963_2024-07-19_09-14-01/pophys/VISp_1: 100%|██████████| 4/4 [00:00<00:00, 90687.65it/s]\n",
      "Searching for videos in /root/capsule/data/multiplane-ophys_736963_2024-07-19_09-14-01/pophys/VISp_5: 100%|██████████| 4/4 [00:00<00:00, 93206.76it/s]\n",
      "Searching for videos in /root/capsule/data/multiplane-ophys_736963_2024-07-19_09-14-01/pophys/VISp_4: 100%|██████████| 4/4 [00:00<00:00, 89240.51it/s]\n",
      "Searching for videos in /root/capsule/data/multiplane-ophys_736963_2024-07-19_09-14-01/pophys/VISp_0: 100%|██████████| 4/4 [00:00<00:00, 90200.09it/s]\n",
      "Searching for videos in /root/capsule/data/multiplane-ophys_736963_2024-07-19_09-14-01/pophys/VISp_3: 100%|██████████| 4/4 [00:00<00:00, 92691.80it/s]\n",
      "Searching for videos in /root/capsule/data/multiplane-ophys_736963_2024-07-19_09-14-01/behavior: 100%|██████████| 3/3 [00:00<00:00, 70295.60it/s]\n",
      "Searching for videos in /root/capsule/data/multiplane-ophys_736963_2024-07-19_09-14-01/original_metadata: 100%|██████████| 6/6 [00:00<00:00, 130392.87it/s]\n",
      "Searching for videos in /root/capsule/data/multiplane-ophys_736963_2024-08-09_08-58-36: 100%|██████████| 7/7 [00:00<00:00, 161319.38it/s]\n",
      "Searching for videos in /root/capsule/data/multiplane-ophys_736963_2024-08-09_08-58-36/behavior-videos: 100%|██████████| 6/6 [00:00<00:00, 78643.20it/s]\n"
     ]
    },
    {
     "name": "stdout",
     "output_type": "stream",
     "text": [
      "Found video file: /root/capsule/data/multiplane-ophys_736963_2024-08-09_08-58-36/behavior-videos/1385667286_Behavior_20240809T085823.mp4\n",
      "Found video file: /root/capsule/data/multiplane-ophys_736963_2024-08-09_08-58-36/behavior-videos/1385667286_Eye_20240809T085824.mp4\n",
      "Found video file: /root/capsule/data/multiplane-ophys_736963_2024-08-09_08-58-36/behavior-videos/1385667286_Face_20240809T085824.mp4\n"
     ]
    },
    {
     "name": "stderr",
     "output_type": "stream",
     "text": [
      "Searching for videos in /root/capsule/data/multiplane-ophys_736963_2024-08-09_08-58-36/original_metadata: 100%|██████████| 6/6 [00:00<00:00, 137518.16it/s]\n",
      "Searching for videos in /root/capsule/data/multiplane-ophys_736963_2024-08-09_08-58-36/pophys: 100%|██████████| 5/5 [00:00<00:00, 113975.65it/s]\n",
      "Searching for videos in /root/capsule/data/multiplane-ophys_736963_2024-08-09_08-58-36/pophys/VISp_2: 100%|██████████| 4/4 [00:00<00:00, 90687.65it/s]\n",
      "Searching for videos in /root/capsule/data/multiplane-ophys_736963_2024-08-09_08-58-36/pophys/VISp_4: 100%|██████████| 4/4 [00:00<00:00, 91678.78it/s]\n",
      "Searching for videos in /root/capsule/data/multiplane-ophys_736963_2024-08-09_08-58-36/pophys/VISp_0: 100%|██████████| 4/4 [00:00<00:00, 94254.02it/s]\n",
      "Searching for videos in /root/capsule/data/multiplane-ophys_736963_2024-08-09_08-58-36/pophys/VISp_3: 100%|██████████| 4/4 [00:00<00:00, 90687.65it/s]\n",
      "Searching for videos in /root/capsule/data/multiplane-ophys_736963_2024-08-09_08-58-36/pophys/VISp_5: 100%|██████████| 4/4 [00:00<00:00, 91180.52it/s]\n",
      "Searching for videos in /root/capsule/data/multiplane-ophys_736963_2024-08-09_08-58-36/pophys/VISp_6: 100%|██████████| 4/4 [00:00<00:00, 94786.53it/s]\n",
      "Searching for videos in /root/capsule/data/multiplane-ophys_736963_2024-08-09_08-58-36/pophys/VISp_7: 100%|██████████| 4/4 [00:00<00:00, 93727.46it/s]\n",
      "Searching for videos in /root/capsule/data/multiplane-ophys_736963_2024-08-09_08-58-36/pophys/VISp_1: 100%|██████████| 4/4 [00:00<00:00, 92691.80it/s]\n",
      "Searching for videos in /root/capsule/data/multiplane-ophys_736963_2024-08-09_08-58-36/behavior: 100%|██████████| 3/3 [00:00<00:00, 71493.82it/s]\n",
      "Searching for videos in /root/capsule/data/multiplane-ophys_736963_2024-07-29_09-00-58: 100%|██████████| 7/7 [00:00<00:00, 157006.03it/s]\n",
      "Searching for videos in /root/capsule/data/multiplane-ophys_736963_2024-07-29_09-00-58/original_metadata: 100%|██████████| 6/6 [00:00<00:00, 136770.78it/s]\n",
      "Searching for videos in /root/capsule/data/multiplane-ophys_736963_2024-07-29_09-00-58/pophys: 100%|██████████| 5/5 [00:00<00:00, 113359.57it/s]\n",
      "Searching for videos in /root/capsule/data/multiplane-ophys_736963_2024-07-29_09-00-58/pophys/VISp_5: 100%|██████████| 4/4 [00:00<00:00, 90200.09it/s]\n",
      "Searching for videos in /root/capsule/data/multiplane-ophys_736963_2024-07-29_09-00-58/pophys/VISp_1: 100%|██████████| 4/4 [00:00<00:00, 91180.52it/s]\n",
      "Searching for videos in /root/capsule/data/multiplane-ophys_736963_2024-07-29_09-00-58/pophys/VISp_6: 100%|██████████| 4/4 [00:00<00:00, 89717.73it/s]\n",
      "Searching for videos in /root/capsule/data/multiplane-ophys_736963_2024-07-29_09-00-58/pophys/VISp_0: 100%|██████████| 4/4 [00:00<00:00, 86480.49it/s]\n",
      "Searching for videos in /root/capsule/data/multiplane-ophys_736963_2024-07-29_09-00-58/pophys/VISp_7: 100%|██████████| 4/4 [00:00<00:00, 90687.65it/s]\n",
      "Searching for videos in /root/capsule/data/multiplane-ophys_736963_2024-07-29_09-00-58/pophys/VISp_4: 100%|██████████| 4/4 [00:00<00:00, 94254.02it/s]\n",
      "Searching for videos in /root/capsule/data/multiplane-ophys_736963_2024-07-29_09-00-58/pophys/VISp_3: 100%|██████████| 4/4 [00:00<00:00, 90200.09it/s]\n",
      "Searching for videos in /root/capsule/data/multiplane-ophys_736963_2024-07-29_09-00-58/pophys/VISp_2: 100%|██████████| 4/4 [00:00<00:00, 87838.83it/s]\n",
      "Searching for videos in /root/capsule/data/multiplane-ophys_736963_2024-07-29_09-00-58/behavior-videos: 100%|██████████| 6/6 [00:00<00:00, 78643.20it/s]\n"
     ]
    },
    {
     "name": "stdout",
     "output_type": "stream",
     "text": [
      "Found video file: /root/capsule/data/multiplane-ophys_736963_2024-07-29_09-00-58/behavior-videos/1383148733_Behavior_20240729T090045.mp4\n",
      "Found video file: /root/capsule/data/multiplane-ophys_736963_2024-07-29_09-00-58/behavior-videos/1383148733_Eye_20240729T090046.mp4\n",
      "Found video file: /root/capsule/data/multiplane-ophys_736963_2024-07-29_09-00-58/behavior-videos/1383148733_Face_20240729T090046.mp4\n"
     ]
    },
    {
     "name": "stderr",
     "output_type": "stream",
     "text": [
      "Searching for videos in /root/capsule/data/multiplane-ophys_736963_2024-07-29_09-00-58/behavior: 100%|██████████| 3/3 [00:00<00:00, 68015.74it/s]\n",
      "Searching for videos in /root/capsule/data/multiplane-ophys_736963_2024-07-22_08-54-38: 100%|██████████| 7/7 [00:00<00:00, 155344.59it/s]\n",
      "Searching for videos in /root/capsule/data/multiplane-ophys_736963_2024-07-22_08-54-38/original_metadata: 100%|██████████| 6/6 [00:00<00:00, 133860.77it/s]\n",
      "Searching for videos in /root/capsule/data/multiplane-ophys_736963_2024-07-22_08-54-38/behavior-videos: 100%|██████████| 6/6 [00:00<00:00, 78643.20it/s]\n"
     ]
    },
    {
     "name": "stdout",
     "output_type": "stream",
     "text": [
      "Found video file: /root/capsule/data/multiplane-ophys_736963_2024-07-22_08-54-38/behavior-videos/1381828419_Behavior_20240722T085422.mp4\n",
      "Found video file: /root/capsule/data/multiplane-ophys_736963_2024-07-22_08-54-38/behavior-videos/1381828419_Eye_20240722T085422.mp4\n",
      "Found video file: /root/capsule/data/multiplane-ophys_736963_2024-07-22_08-54-38/behavior-videos/1381828419_Face_20240722T085423.mp4\n"
     ]
    },
    {
     "name": "stderr",
     "output_type": "stream",
     "text": [
      "Searching for videos in /root/capsule/data/multiplane-ophys_736963_2024-07-22_08-54-38/pophys: 100%|██████████| 5/5 [00:00<00:00, 106454.42it/s]\n",
      "Searching for videos in /root/capsule/data/multiplane-ophys_736963_2024-07-22_08-54-38/pophys/VISp_5: 100%|██████████| 4/4 [00:00<00:00, 87381.33it/s]\n",
      "Searching for videos in /root/capsule/data/multiplane-ophys_736963_2024-07-22_08-54-38/pophys/VISp_0: 100%|██████████| 4/4 [00:00<00:00, 92182.51it/s]\n",
      "Searching for videos in /root/capsule/data/multiplane-ophys_736963_2024-07-22_08-54-38/pophys/VISp_4: 100%|██████████| 4/4 [00:00<00:00, 90200.09it/s]\n",
      "Searching for videos in /root/capsule/data/multiplane-ophys_736963_2024-07-22_08-54-38/pophys/VISp_2: 100%|██████████| 4/4 [00:00<00:00, 91678.78it/s]\n",
      "Searching for videos in /root/capsule/data/multiplane-ophys_736963_2024-07-22_08-54-38/pophys/VISp_6: 100%|██████████| 4/4 [00:00<00:00, 85163.53it/s]\n",
      "Searching for videos in /root/capsule/data/multiplane-ophys_736963_2024-07-22_08-54-38/pophys/VISp_1: 100%|██████████| 4/4 [00:00<00:00, 89717.73it/s]\n",
      "Searching for videos in /root/capsule/data/multiplane-ophys_736963_2024-07-22_08-54-38/pophys/VISp_7: 100%|██████████| 4/4 [00:00<00:00, 90687.65it/s]\n",
      "Searching for videos in /root/capsule/data/multiplane-ophys_736963_2024-07-22_08-54-38/pophys/VISp_3: 100%|██████████| 4/4 [00:00<00:00, 88768.34it/s]\n",
      "Searching for videos in /root/capsule/data/multiplane-ophys_736963_2024-07-22_08-54-38/behavior: 100%|██████████| 3/3 [00:00<00:00, 69136.88it/s]\n",
      "Searching for videos in /root/capsule/data/multiplane-ophys_736963_2024-07-11_08-45-05: 100%|██████████| 7/7 [00:00<00:00, 147538.33it/s]\n",
      "Searching for videos in /root/capsule/data/multiplane-ophys_736963_2024-07-11_08-45-05/behavior: 100%|██████████| 3/3 [00:00<00:00, 69518.85it/s]\n",
      "Searching for videos in /root/capsule/data/multiplane-ophys_736963_2024-07-11_08-45-05/original_metadata: 100%|██████████| 6/6 [00:00<00:00, 128397.06it/s]\n",
      "Searching for videos in /root/capsule/data/multiplane-ophys_736963_2024-07-11_08-45-05/pophys: 100%|██████████| 5/5 [00:00<00:00, 116508.44it/s]\n",
      "Searching for videos in /root/capsule/data/multiplane-ophys_736963_2024-07-11_08-45-05/pophys/VISp_6: 100%|██████████| 4/4 [00:00<00:00, 95325.09it/s]\n",
      "Searching for videos in /root/capsule/data/multiplane-ophys_736963_2024-07-11_08-45-05/pophys/VISp_7: 100%|██████████| 4/4 [00:00<00:00, 95325.09it/s]\n",
      "Searching for videos in /root/capsule/data/multiplane-ophys_736963_2024-07-11_08-45-05/pophys/VISp_4: 100%|██████████| 4/4 [00:00<00:00, 94786.53it/s]\n",
      "Searching for videos in /root/capsule/data/multiplane-ophys_736963_2024-07-11_08-45-05/pophys/VISp_1: 100%|██████████| 4/4 [00:00<00:00, 98689.51it/s]\n",
      "Searching for videos in /root/capsule/data/multiplane-ophys_736963_2024-07-11_08-45-05/pophys/VISp_5: 100%|██████████| 4/4 [00:00<00:00, 95869.81it/s]\n",
      "Searching for videos in /root/capsule/data/multiplane-ophys_736963_2024-07-11_08-45-05/pophys/VISp_0: 100%|██████████| 4/4 [00:00<00:00, 96978.13it/s]\n",
      "Searching for videos in /root/capsule/data/multiplane-ophys_736963_2024-07-11_08-45-05/pophys/VISp_3: 100%|██████████| 4/4 [00:00<00:00, 90687.65it/s]\n",
      "Searching for videos in /root/capsule/data/multiplane-ophys_736963_2024-07-11_08-45-05/pophys/VISp_2: 100%|██████████| 4/4 [00:00<00:00, 87381.33it/s]\n",
      "Searching for videos in /root/capsule/data/multiplane-ophys_736963_2024-07-11_08-45-05/behavior-videos: 100%|██████████| 6/6 [00:00<00:00, 73369.75it/s]\n"
     ]
    },
    {
     "name": "stdout",
     "output_type": "stream",
     "text": [
      "Found video file: /root/capsule/data/multiplane-ophys_736963_2024-07-11_08-45-05/behavior-videos/1379416042_Face_20240711T084452.mp4\n",
      "Found video file: /root/capsule/data/multiplane-ophys_736963_2024-07-11_08-45-05/behavior-videos/1379416042_Behavior_20240711T084452.mp4\n",
      "Found video file: /root/capsule/data/multiplane-ophys_736963_2024-07-11_08-45-05/behavior-videos/1379416042_Eye_20240711T084452.mp4\n"
     ]
    },
    {
     "name": "stderr",
     "output_type": "stream",
     "text": [
      "Searching for videos in /root/capsule/data/multiplane-ophys_736963_2024-08-05_09-19-25: 100%|██████████| 7/7 [00:00<00:00, 154526.99it/s]\n",
      "Searching for videos in /root/capsule/data/multiplane-ophys_736963_2024-08-05_09-19-25/pophys: 100%|██████████| 5/5 [00:00<00:00, 110376.42it/s]\n",
      "Searching for videos in /root/capsule/data/multiplane-ophys_736963_2024-08-05_09-19-25/pophys/VISp_1: 100%|██████████| 4/4 [00:00<00:00, 89240.51it/s]\n",
      "Searching for videos in /root/capsule/data/multiplane-ophys_736963_2024-08-05_09-19-25/pophys/VISp_6: 100%|██████████| 4/4 [00:00<00:00, 93727.46it/s]\n",
      "Searching for videos in /root/capsule/data/multiplane-ophys_736963_2024-08-05_09-19-25/pophys/VISp_3: 100%|██████████| 4/4 [00:00<00:00, 92691.80it/s]\n",
      "Searching for videos in /root/capsule/data/multiplane-ophys_736963_2024-08-05_09-19-25/pophys/VISp_4: 100%|██████████| 4/4 [00:00<00:00, 88301.14it/s]\n",
      "Searching for videos in /root/capsule/data/multiplane-ophys_736963_2024-08-05_09-19-25/pophys/VISp_7: 100%|██████████| 4/4 [00:00<00:00, 91180.52it/s]\n",
      "Searching for videos in /root/capsule/data/multiplane-ophys_736963_2024-08-05_09-19-25/pophys/VISp_0: 100%|██████████| 4/4 [00:00<00:00, 92182.51it/s]\n",
      "Searching for videos in /root/capsule/data/multiplane-ophys_736963_2024-08-05_09-19-25/pophys/VISp_5: 100%|██████████| 4/4 [00:00<00:00, 90687.65it/s]\n",
      "Searching for videos in /root/capsule/data/multiplane-ophys_736963_2024-08-05_09-19-25/pophys/VISp_2: 100%|██████████| 4/4 [00:00<00:00, 90200.09it/s]\n",
      "Searching for videos in /root/capsule/data/multiplane-ophys_736963_2024-08-05_09-19-25/behavior-videos: 100%|██████████| 6/6 [00:00<00:00, 79387.46it/s]\n"
     ]
    },
    {
     "name": "stdout",
     "output_type": "stream",
     "text": [
      "Found video file: /root/capsule/data/multiplane-ophys_736963_2024-08-05_09-19-25/behavior-videos/1384760310_Face_20240805T091912.mp4\n",
      "Found video file: /root/capsule/data/multiplane-ophys_736963_2024-08-05_09-19-25/behavior-videos/1384760310_Behavior_20240805T091912.mp4\n",
      "Found video file: /root/capsule/data/multiplane-ophys_736963_2024-08-05_09-19-25/behavior-videos/1384760310_Eye_20240805T091912.mp4\n"
     ]
    },
    {
     "name": "stderr",
     "output_type": "stream",
     "text": [
      "Searching for videos in /root/capsule/data/multiplane-ophys_736963_2024-08-05_09-19-25/original_metadata: 100%|██████████| 6/6 [00:00<00:00, 129055.51it/s]\n",
      "Searching for videos in /root/capsule/data/multiplane-ophys_736963_2024-08-05_09-19-25/behavior: 100%|██████████| 3/3 [00:00<00:00, 38014.84it/s]\n",
      "Searching for videos in /root/capsule/data/multiplane-ophys_736963_2024-08-27_08-51-49: 100%|██████████| 7/7 [00:00<00:00, 150564.76it/s]\n",
      "Searching for videos in /root/capsule/data/multiplane-ophys_736963_2024-08-27_08-51-49/behavior: 100%|██████████| 3/3 [00:00<00:00, 67288.30it/s]\n",
      "Searching for videos in /root/capsule/data/multiplane-ophys_736963_2024-08-27_08-51-49/behavior-videos: 100%|██████████| 6/6 [00:00<00:00, 72108.38it/s]\n"
     ]
    },
    {
     "name": "stdout",
     "output_type": "stream",
     "text": [
      "Found video file: /root/capsule/data/multiplane-ophys_736963_2024-08-27_08-51-49/behavior-videos/1389737958_Eye_20240827T085139.mp4\n",
      "Found video file: /root/capsule/data/multiplane-ophys_736963_2024-08-27_08-51-49/behavior-videos/1389737958_Face_20240827T085139.mp4\n",
      "Found video file: /root/capsule/data/multiplane-ophys_736963_2024-08-27_08-51-49/behavior-videos/1389737958_Behavior_20240827T085138.mp4\n"
     ]
    },
    {
     "name": "stderr",
     "output_type": "stream",
     "text": [
      "Searching for videos in /root/capsule/data/multiplane-ophys_736963_2024-08-27_08-51-49/pophys: 100%|██████████| 6/6 [00:00<00:00, 67288.30it/s]\n",
      "Searching for videos in /root/capsule/data/multiplane-ophys_736963_2024-08-27_08-51-49/pophys/VISp_7: 100%|██████████| 4/4 [00:00<00:00, 71392.41it/s]\n",
      "Searching for videos in /root/capsule/data/multiplane-ophys_736963_2024-08-27_08-51-49/pophys/VISp_4: 100%|██████████| 4/4 [00:00<00:00, 59493.67it/s]\n",
      "Searching for videos in /root/capsule/data/multiplane-ophys_736963_2024-08-27_08-51-49/pophys/VISp_5: 100%|██████████| 4/4 [00:00<00:00, 83055.52it/s]\n",
      "Searching for videos in /root/capsule/data/multiplane-ophys_736963_2024-08-27_08-51-49/pophys/VISp_2: 100%|██████████| 4/4 [00:00<00:00, 88301.14it/s]\n",
      "Searching for videos in /root/capsule/data/multiplane-ophys_736963_2024-08-27_08-51-49/pophys/VISp_3: 100%|██████████| 4/4 [00:00<00:00, 64776.90it/s]\n",
      "Searching for videos in /root/capsule/data/multiplane-ophys_736963_2024-08-27_08-51-49/pophys/VISp_0: 100%|██████████| 4/4 [00:00<00:00, 59918.63it/s]\n",
      "Searching for videos in /root/capsule/data/multiplane-ophys_736963_2024-08-27_08-51-49/pophys/VISp_6: 100%|██████████| 4/4 [00:00<00:00, 47934.90it/s]\n",
      "Searching for videos in /root/capsule/data/multiplane-ophys_736963_2024-08-27_08-51-49/pophys/VISp_1: 100%|██████████| 4/4 [00:00<00:00, 73584.28it/s]\n",
      "Searching for videos in /root/capsule/data/multiplane-ophys_736963_2024-08-27_08-51-49/original_metadata: 100%|██████████| 6/6 [00:00<00:00, 68759.08it/s]\n",
      "Searching for videos in /root/capsule/data/multiplane-ophys_736963_2024-07-12_09-20-11: 100%|██████████| 7/7 [00:00<00:00, 121826.26it/s]\n",
      "Searching for videos in /root/capsule/data/multiplane-ophys_736963_2024-07-12_09-20-11/pophys: 100%|██████████| 5/5 [00:00<00:00, 112147.17it/s]\n",
      "Searching for videos in /root/capsule/data/multiplane-ophys_736963_2024-07-12_09-20-11/pophys/VISp_2: 100%|██████████| 4/4 [00:00<00:00, 73908.44it/s]\n",
      "Searching for videos in /root/capsule/data/multiplane-ophys_736963_2024-07-12_09-20-11/pophys/VISp_4: 100%|██████████| 4/4 [00:00<00:00, 75573.05it/s]\n",
      "Searching for videos in /root/capsule/data/multiplane-ophys_736963_2024-07-12_09-20-11/pophys/VISp_3: 100%|██████████| 4/4 [00:00<00:00, 69905.07it/s]\n",
      "Searching for videos in /root/capsule/data/multiplane-ophys_736963_2024-07-12_09-20-11/pophys/VISp_6: 100%|██████████| 4/4 [00:00<00:00, 65027.97it/s]\n",
      "Searching for videos in /root/capsule/data/multiplane-ophys_736963_2024-07-12_09-20-11/pophys/VISp_7: 100%|██████████| 4/4 [00:00<00:00, 88301.14it/s]\n",
      "Searching for videos in /root/capsule/data/multiplane-ophys_736963_2024-07-12_09-20-11/pophys/VISp_5: 100%|██████████| 4/4 [00:00<00:00, 89240.51it/s]\n",
      "Searching for videos in /root/capsule/data/multiplane-ophys_736963_2024-07-12_09-20-11/pophys/VISp_0: 100%|██████████| 4/4 [00:00<00:00, 51941.85it/s]\n",
      "Searching for videos in /root/capsule/data/multiplane-ophys_736963_2024-07-12_09-20-11/pophys/VISp_1: 100%|██████████| 4/4 [00:00<00:00, 88301.14it/s]\n",
      "Searching for videos in /root/capsule/data/multiplane-ophys_736963_2024-07-12_09-20-11/behavior-videos: 100%|██████████| 6/6 [00:00<00:00, 41803.69it/s]\n"
     ]
    },
    {
     "name": "stdout",
     "output_type": "stream",
     "text": [
      "Found video file: /root/capsule/data/multiplane-ophys_736963_2024-07-12_09-20-11/behavior-videos/1379662502_Eye_20240712T091958.mp4\n",
      "Found video file: /root/capsule/data/multiplane-ophys_736963_2024-07-12_09-20-11/behavior-videos/1379662502_Face_20240712T091958.mp4\n",
      "Found video file: /root/capsule/data/multiplane-ophys_736963_2024-07-12_09-20-11/behavior-videos/1379662502_Behavior_20240712T091957.mp4\n"
     ]
    },
    {
     "name": "stderr",
     "output_type": "stream",
     "text": [
      "Searching for videos in /root/capsule/data/multiplane-ophys_736963_2024-07-12_09-20-11/original_metadata: 100%|██████████| 6/6 [00:00<00:00, 55431.33it/s]\n",
      "Searching for videos in /root/capsule/data/multiplane-ophys_736963_2024-07-12_09-20-11/behavior: 100%|██████████| 3/3 [00:00<00:00, 67650.06it/s]\n",
      "Searching for videos in /root/capsule/data/multiplane-ophys_736963_2024-07-18_08-41-14: 100%|██████████| 7/7 [00:00<00:00, 78085.45it/s]\n",
      "Searching for videos in /root/capsule/data/multiplane-ophys_736963_2024-07-18_08-41-14/behavior: 100%|██████████| 3/3 [00:00<00:00, 59634.65it/s]\n",
      "Searching for videos in /root/capsule/data/multiplane-ophys_736963_2024-07-18_08-41-14/behavior-videos: 100%|██████████| 6/6 [00:00<00:00, 61680.94it/s]\n"
     ]
    },
    {
     "name": "stdout",
     "output_type": "stream",
     "text": [
      "Found video file: /root/capsule/data/multiplane-ophys_736963_2024-07-18_08-41-14/behavior-videos/1380861576_Behavior_20240718T084103.mp4\n",
      "Found video file: /root/capsule/data/multiplane-ophys_736963_2024-07-18_08-41-14/behavior-videos/1380861576_Eye_20240718T084104.mp4\n",
      "Found video file: /root/capsule/data/multiplane-ophys_736963_2024-07-18_08-41-14/behavior-videos/1380861576_Face_20240718T084104.mp4\n"
     ]
    },
    {
     "name": "stderr",
     "output_type": "stream",
     "text": [
      "Searching for videos in /root/capsule/data/multiplane-ophys_736963_2024-07-18_08-41-14/pophys: 100%|██████████| 5/5 [00:00<00:00, 47021.35it/s]\n",
      "Searching for videos in /root/capsule/data/multiplane-ophys_736963_2024-07-18_08-41-14/pophys/VISp_2: 100%|██████████| 4/4 [00:00<00:00, 83055.52it/s]\n",
      "Searching for videos in /root/capsule/data/multiplane-ophys_736963_2024-07-18_08-41-14/pophys/VISp_4: 100%|██████████| 4/4 [00:00<00:00, 87381.33it/s]\n",
      "Searching for videos in /root/capsule/data/multiplane-ophys_736963_2024-07-18_08-41-14/pophys/VISp_6: 100%|██████████| 4/4 [00:00<00:00, 78398.21it/s]\n",
      "Searching for videos in /root/capsule/data/multiplane-ophys_736963_2024-07-18_08-41-14/pophys/VISp_7: 100%|██████████| 4/4 [00:00<00:00, 87381.33it/s]\n",
      "Searching for videos in /root/capsule/data/multiplane-ophys_736963_2024-07-18_08-41-14/pophys/VISp_1: 100%|██████████| 4/4 [00:00<00:00, 83055.52it/s]\n",
      "Searching for videos in /root/capsule/data/multiplane-ophys_736963_2024-07-18_08-41-14/pophys/VISp_3: 100%|██████████| 4/4 [00:00<00:00, 81049.35it/s]\n",
      "Searching for videos in /root/capsule/data/multiplane-ophys_736963_2024-07-18_08-41-14/pophys/VISp_0: 100%|██████████| 4/4 [00:00<00:00, 73262.95it/s]\n",
      "Searching for videos in /root/capsule/data/multiplane-ophys_736963_2024-07-18_08-41-14/pophys/VISp_5: 100%|██████████| 4/4 [00:00<00:00, 55738.26it/s]\n",
      "Searching for videos in /root/capsule/data/multiplane-ophys_736963_2024-07-18_08-41-14/original_metadata: 100%|██████████| 6/6 [00:00<00:00, 123361.88it/s]\n",
      "Searching for videos in /root/capsule/data/multiplane-ophys_736963_2024-08-07_09-11-10: 100%|██████████| 7/7 [00:00<00:00, 151340.87it/s]\n",
      "Searching for videos in /root/capsule/data/multiplane-ophys_736963_2024-08-07_09-11-10/behavior-videos: 100%|██████████| 6/6 [00:00<00:00, 80145.94it/s]\n"
     ]
    },
    {
     "name": "stdout",
     "output_type": "stream",
     "text": [
      "Found video file: /root/capsule/data/multiplane-ophys_736963_2024-08-07_09-11-10/behavior-videos/1385201503_Face_20240807T091057.mp4\n",
      "Found video file: /root/capsule/data/multiplane-ophys_736963_2024-08-07_09-11-10/behavior-videos/1385201503_Behavior_20240807T091056.mp4\n",
      "Found video file: /root/capsule/data/multiplane-ophys_736963_2024-08-07_09-11-10/behavior-videos/1385201503_Eye_20240807T091057.mp4\n"
     ]
    },
    {
     "name": "stderr",
     "output_type": "stream",
     "text": [
      "Searching for videos in /root/capsule/data/multiplane-ophys_736963_2024-08-07_09-11-10/pophys: 100%|██████████| 5/5 [00:00<00:00, 109226.67it/s]\n",
      "Searching for videos in /root/capsule/data/multiplane-ophys_736963_2024-08-07_09-11-10/pophys/VISp_4: 100%|██████████| 4/4 [00:00<00:00, 90200.09it/s]\n",
      "Searching for videos in /root/capsule/data/multiplane-ophys_736963_2024-08-07_09-11-10/pophys/VISp_0: 100%|██████████| 4/4 [00:00<00:00, 92182.51it/s]\n",
      "Searching for videos in /root/capsule/data/multiplane-ophys_736963_2024-08-07_09-11-10/pophys/VISp_1: 100%|██████████| 4/4 [00:00<00:00, 54295.20it/s]\n",
      "Searching for videos in /root/capsule/data/multiplane-ophys_736963_2024-08-07_09-11-10/pophys/VISp_6: 100%|██████████| 4/4 [00:00<00:00, 89240.51it/s]\n",
      "Searching for videos in /root/capsule/data/multiplane-ophys_736963_2024-08-07_09-11-10/pophys/VISp_7: 100%|██████████| 4/4 [00:00<00:00, 88768.34it/s]\n",
      "Searching for videos in /root/capsule/data/multiplane-ophys_736963_2024-08-07_09-11-10/pophys/VISp_2: 100%|██████████| 4/4 [00:00<00:00, 86928.58it/s]\n",
      "Searching for videos in /root/capsule/data/multiplane-ophys_736963_2024-08-07_09-11-10/pophys/VISp_3: 100%|██████████| 4/4 [00:00<00:00, 89240.51it/s]\n",
      "Searching for videos in /root/capsule/data/multiplane-ophys_736963_2024-08-07_09-11-10/pophys/VISp_5: 100%|██████████| 4/4 [00:00<00:00, 76959.71it/s]\n",
      "Searching for videos in /root/capsule/data/multiplane-ophys_736963_2024-08-07_09-11-10/behavior: 100%|██████████| 3/3 [00:00<00:00, 67650.06it/s]\n",
      "Searching for videos in /root/capsule/data/multiplane-ophys_736963_2024-08-07_09-11-10/original_metadata: 100%|██████████| 6/6 [00:00<00:00, 134576.60it/s]\n",
      "Searching for videos in /root/capsule/data/multiplane-ophys_736963_2024-07-24_08-49-57: 100%|██████████| 7/7 [00:00<00:00, 155344.59it/s]\n",
      "Searching for videos in /root/capsule/data/multiplane-ophys_736963_2024-07-24_08-49-57/behavior: 100%|██████████| 3/3 [00:00<00:00, 70295.60it/s]\n",
      "Searching for videos in /root/capsule/data/multiplane-ophys_736963_2024-07-24_08-49-57/pophys: 100%|██████████| 5/5 [00:00<00:00, 105916.77it/s]\n",
      "Searching for videos in /root/capsule/data/multiplane-ophys_736963_2024-07-24_08-49-57/pophys/VISp_2: 100%|██████████| 4/4 [00:00<00:00, 89240.51it/s]\n",
      "Searching for videos in /root/capsule/data/multiplane-ophys_736963_2024-07-24_08-49-57/pophys/VISp_4: 100%|██████████| 4/4 [00:00<00:00, 76959.71it/s]\n",
      "Searching for videos in /root/capsule/data/multiplane-ophys_736963_2024-07-24_08-49-57/pophys/VISp_5: 100%|██████████| 4/4 [00:00<00:00, 88768.34it/s]\n",
      "Searching for videos in /root/capsule/data/multiplane-ophys_736963_2024-07-24_08-49-57/pophys/VISp_7: 100%|██████████| 4/4 [00:00<00:00, 89717.73it/s]\n",
      "Searching for videos in /root/capsule/data/multiplane-ophys_736963_2024-07-24_08-49-57/pophys/VISp_6: 100%|██████████| 4/4 [00:00<00:00, 91180.52it/s]\n",
      "Searching for videos in /root/capsule/data/multiplane-ophys_736963_2024-07-24_08-49-57/pophys/VISp_0: 100%|██████████| 4/4 [00:00<00:00, 90687.65it/s]\n",
      "Searching for videos in /root/capsule/data/multiplane-ophys_736963_2024-07-24_08-49-57/pophys/VISp_1: 100%|██████████| 4/4 [00:00<00:00, 89240.51it/s]\n",
      "Searching for videos in /root/capsule/data/multiplane-ophys_736963_2024-07-24_08-49-57/pophys/VISp_3: 100%|██████████| 4/4 [00:00<00:00, 92691.80it/s]\n",
      "Searching for videos in /root/capsule/data/multiplane-ophys_736963_2024-07-24_08-49-57/behavior-videos: 100%|██████████| 6/6 [00:00<00:00, 77195.78it/s]\n"
     ]
    },
    {
     "name": "stdout",
     "output_type": "stream",
     "text": [
      "Found video file: /root/capsule/data/multiplane-ophys_736963_2024-07-24_08-49-57/behavior-videos/1382209121_Face_20240724T084947.mp4\n",
      "Found video file: /root/capsule/data/multiplane-ophys_736963_2024-07-24_08-49-57/behavior-videos/1382209121_Behavior_20240724T084946.mp4\n",
      "Found video file: /root/capsule/data/multiplane-ophys_736963_2024-07-24_08-49-57/behavior-videos/1382209121_Eye_20240724T084946.mp4\n"
     ]
    },
    {
     "name": "stderr",
     "output_type": "stream",
     "text": [
      "Searching for videos in /root/capsule/data/multiplane-ophys_736963_2024-07-24_08-49-57/original_metadata: 100%|██████████| 6/6 [00:00<00:00, 117597.31it/s]\n",
      "Searching for videos in /root/capsule/data/multiplane-ophys_736963_2024-08-12_09-17-19: 100%|██████████| 7/7 [00:00<00:00, 153717.95it/s]\n",
      "Searching for videos in /root/capsule/data/multiplane-ophys_736963_2024-08-12_09-17-19/behavior: 100%|██████████| 3/3 [00:00<00:00, 68015.74it/s]\n",
      "Searching for videos in /root/capsule/data/multiplane-ophys_736963_2024-08-12_09-17-19/pophys: 100%|██████████| 5/5 [00:00<00:00, 114598.47it/s]\n",
      "Searching for videos in /root/capsule/data/multiplane-ophys_736963_2024-08-12_09-17-19/pophys/VISp_1: 100%|██████████| 4/4 [00:00<00:00, 92182.51it/s]\n",
      "Searching for videos in /root/capsule/data/multiplane-ophys_736963_2024-08-12_09-17-19/pophys/VISp_3: 100%|██████████| 4/4 [00:00<00:00, 89717.73it/s]\n",
      "Searching for videos in /root/capsule/data/multiplane-ophys_736963_2024-08-12_09-17-19/pophys/VISp_6: 100%|██████████| 4/4 [00:00<00:00, 86037.01it/s]\n",
      "Searching for videos in /root/capsule/data/multiplane-ophys_736963_2024-08-12_09-17-19/pophys/VISp_5: 100%|██████████| 4/4 [00:00<00:00, 75234.15it/s]\n",
      "Searching for videos in /root/capsule/data/multiplane-ophys_736963_2024-08-12_09-17-19/pophys/VISp_4: 100%|██████████| 4/4 [00:00<00:00, 89240.51it/s]\n",
      "Searching for videos in /root/capsule/data/multiplane-ophys_736963_2024-08-12_09-17-19/pophys/VISp_2: 100%|██████████| 4/4 [00:00<00:00, 89717.73it/s]\n",
      "Searching for videos in /root/capsule/data/multiplane-ophys_736963_2024-08-12_09-17-19/pophys/VISp_7: 100%|██████████| 4/4 [00:00<00:00, 89240.51it/s]\n",
      "Searching for videos in /root/capsule/data/multiplane-ophys_736963_2024-08-12_09-17-19/pophys/VISp_0: 100%|██████████| 4/4 [00:00<00:00, 91678.78it/s]\n",
      "Searching for videos in /root/capsule/data/multiplane-ophys_736963_2024-08-12_09-17-19/original_metadata: 100%|██████████| 6/6 [00:00<00:00, 130392.87it/s]\n",
      "Searching for videos in /root/capsule/data/multiplane-ophys_736963_2024-08-12_09-17-19/behavior-videos: 100%|██████████| 6/6 [00:00<00:00, 77195.78it/s]\n"
     ]
    },
    {
     "name": "stdout",
     "output_type": "stream",
     "text": [
      "Found video file: /root/capsule/data/multiplane-ophys_736963_2024-08-12_09-17-19/behavior-videos/1386369053_Eye_20240812T091707.mp4\n",
      "Found video file: /root/capsule/data/multiplane-ophys_736963_2024-08-12_09-17-19/behavior-videos/1386369053_Face_20240812T091707.mp4\n",
      "Found video file: /root/capsule/data/multiplane-ophys_736963_2024-08-12_09-17-19/behavior-videos/1386369053_Behavior_20240812T091706.mp4\n"
     ]
    },
    {
     "name": "stderr",
     "output_type": "stream",
     "text": [
      "Searching for videos in /root/capsule/data/multiplane-ophys_736963_2024-07-26_09-37-45: 100%|██████████| 7/7 [00:00<00:00, 148283.47it/s]\n",
      "Searching for videos in /root/capsule/data/multiplane-ophys_736963_2024-07-26_09-37-45/behavior: 100%|██████████| 3/3 [00:00<00:00, 67650.06it/s]\n",
      "Searching for videos in /root/capsule/data/multiplane-ophys_736963_2024-07-26_09-37-45/pophys: 100%|██████████| 5/5 [00:00<00:00, 112750.11it/s]\n",
      "Searching for videos in /root/capsule/data/multiplane-ophys_736963_2024-07-26_09-37-45/pophys/VISp_6: 100%|██████████| 4/4 [00:00<00:00, 90200.09it/s]\n",
      "Searching for videos in /root/capsule/data/multiplane-ophys_736963_2024-07-26_09-37-45/pophys/VISp_1: 100%|██████████| 4/4 [00:00<00:00, 93727.46it/s]\n",
      "Searching for videos in /root/capsule/data/multiplane-ophys_736963_2024-07-26_09-37-45/pophys/VISp_2: 100%|██████████| 4/4 [00:00<00:00, 92691.80it/s]\n",
      "Searching for videos in /root/capsule/data/multiplane-ophys_736963_2024-07-26_09-37-45/pophys/VISp_3: 100%|██████████| 4/4 [00:00<00:00, 95325.09it/s]\n",
      "Searching for videos in /root/capsule/data/multiplane-ophys_736963_2024-07-26_09-37-45/pophys/VISp_4: 100%|██████████| 4/4 [00:00<00:00, 95869.81it/s]\n",
      "Searching for videos in /root/capsule/data/multiplane-ophys_736963_2024-07-26_09-37-45/pophys/VISp_7: 100%|██████████| 4/4 [00:00<00:00, 93727.46it/s]\n",
      "Searching for videos in /root/capsule/data/multiplane-ophys_736963_2024-07-26_09-37-45/pophys/VISp_0: 100%|██████████| 4/4 [00:00<00:00, 96978.13it/s]\n",
      "Searching for videos in /root/capsule/data/multiplane-ophys_736963_2024-07-26_09-37-45/pophys/VISp_5: 100%|██████████| 4/4 [00:00<00:00, 91678.78it/s]\n",
      "Searching for videos in /root/capsule/data/multiplane-ophys_736963_2024-07-26_09-37-45/original_metadata: 100%|██████████| 6/6 [00:00<00:00, 132451.71it/s]\n",
      "Searching for videos in /root/capsule/data/multiplane-ophys_736963_2024-07-26_09-37-45/behavior-videos: 100%|██████████| 6/6 [00:00<00:00, 77672.30it/s]\n"
     ]
    },
    {
     "name": "stdout",
     "output_type": "stream",
     "text": [
      "Found video file: /root/capsule/data/multiplane-ophys_736963_2024-07-26_09-37-45/behavior-videos/1382621827_Face_20240726T093734.mp4\n",
      "Found video file: /root/capsule/data/multiplane-ophys_736963_2024-07-26_09-37-45/behavior-videos/1382621827_Behavior_20240726T093734.mp4\n",
      "Found video file: /root/capsule/data/multiplane-ophys_736963_2024-07-26_09-37-45/behavior-videos/1382621827_Eye_20240726T093734.mp4\n"
     ]
    },
    {
     "name": "stderr",
     "output_type": "stream",
     "text": [
      "Searching for videos in /root/capsule/data/multiplane-ophys_736963_2024-08-23_09-13-46: 100%|██████████| 7/7 [00:00<00:00, 149796.57it/s]\n",
      "Searching for videos in /root/capsule/data/multiplane-ophys_736963_2024-08-23_09-13-46/behavior-videos: 100%|██████████| 6/6 [00:00<00:00, 79387.46it/s]\n"
     ]
    },
    {
     "name": "stdout",
     "output_type": "stream",
     "text": [
      "Found video file: /root/capsule/data/multiplane-ophys_736963_2024-08-23_09-13-46/behavior-videos/1388878965_Eye_20240823T091330.mp4\n",
      "Found video file: /root/capsule/data/multiplane-ophys_736963_2024-08-23_09-13-46/behavior-videos/1388878965_Face_20240823T091330.mp4\n",
      "Found video file: /root/capsule/data/multiplane-ophys_736963_2024-08-23_09-13-46/behavior-videos/1388878965_Behavior_20240823T091329.mp4\n"
     ]
    },
    {
     "name": "stderr",
     "output_type": "stream",
     "text": [
      "Searching for videos in /root/capsule/data/multiplane-ophys_736963_2024-08-23_09-13-46/pophys: 100%|██████████| 5/5 [00:00<00:00, 113975.65it/s]\n",
      "Searching for videos in /root/capsule/data/multiplane-ophys_736963_2024-08-23_09-13-46/pophys/VISp_1: 100%|██████████| 4/4 [00:00<00:00, 90687.65it/s]\n",
      "Searching for videos in /root/capsule/data/multiplane-ophys_736963_2024-08-23_09-13-46/pophys/VISp_3: 100%|██████████| 4/4 [00:00<00:00, 93727.46it/s]\n",
      "Searching for videos in /root/capsule/data/multiplane-ophys_736963_2024-08-23_09-13-46/pophys/VISp_7: 100%|██████████| 4/4 [00:00<00:00, 94254.02it/s]\n",
      "Searching for videos in /root/capsule/data/multiplane-ophys_736963_2024-08-23_09-13-46/pophys/VISp_4: 100%|██████████| 4/4 [00:00<00:00, 93727.46it/s]\n",
      "Searching for videos in /root/capsule/data/multiplane-ophys_736963_2024-08-23_09-13-46/pophys/VISp_6: 100%|██████████| 4/4 [00:00<00:00, 95325.09it/s]\n",
      "Searching for videos in /root/capsule/data/multiplane-ophys_736963_2024-08-23_09-13-46/pophys/VISp_2: 100%|██████████| 4/4 [00:00<00:00, 84733.41it/s]\n",
      "Searching for videos in /root/capsule/data/multiplane-ophys_736963_2024-08-23_09-13-46/pophys/VISp_5: 100%|██████████| 4/4 [00:00<00:00, 93727.46it/s]\n",
      "Searching for videos in /root/capsule/data/multiplane-ophys_736963_2024-08-23_09-13-46/pophys/VISp_0: 100%|██████████| 4/4 [00:00<00:00, 91678.78it/s]\n",
      "Searching for videos in /root/capsule/data/multiplane-ophys_736963_2024-08-23_09-13-46/behavior: 100%|██████████| 3/3 [00:00<00:00, 39945.75it/s]\n",
      "Searching for videos in /root/capsule/data/multiplane-ophys_736963_2024-08-23_09-13-46/original_metadata: 100%|██████████| 6/6 [00:00<00:00, 122760.12it/s]\n"
     ]
    }
   ],
   "source": [
    "video_paths = utils.get_video_paths()"
   ]
  },
  {
   "cell_type": "code",
   "execution_count": 11,
   "metadata": {},
   "outputs": [
    {
     "name": "stderr",
     "output_type": "stream",
     "text": [
      "INFO:utils:Created DataFrame with session type: TRAINING_0_gratings_autorewards_15min and data asset ID: 1ada3276-660a-410b-bbad-bd6ada00437f\n",
      "INFO:utils:Created DataFrame with session type: TRAINING_0_gratings_autorewards_15min and data asset ID: 1ada3276-660a-410b-bbad-bd6ada00437f\n",
      "INFO:utils:Created DataFrame with session type: TRAINING_0_gratings_autorewards_15min and data asset ID: 1ada3276-660a-410b-bbad-bd6ada00437f\n",
      "INFO:utils:Created DataFrame with session type: TRAINING_2_gratings_flashed and data asset ID: 4084b35a-ef15-402e-8ea2-44fbd0e086a1\n",
      "INFO:utils:Created DataFrame with session type: TRAINING_2_gratings_flashed and data asset ID: 4084b35a-ef15-402e-8ea2-44fbd0e086a1\n",
      "INFO:utils:Created DataFrame with session type: TRAINING_2_gratings_flashed and data asset ID: 4084b35a-ef15-402e-8ea2-44fbd0e086a1\n",
      "INFO:utils:Created DataFrame with session type: STAGE_1 and data asset ID: 77436158-af44-44bd-92ce-ba3d2a94abeb\n",
      "INFO:utils:Created DataFrame with session type: STAGE_1 and data asset ID: 77436158-af44-44bd-92ce-ba3d2a94abeb\n",
      "INFO:utils:Created DataFrame with session type: STAGE_1 and data asset ID: 77436158-af44-44bd-92ce-ba3d2a94abeb\n"
     ]
    },
    {
     "name": "stdout",
     "output_type": "stream",
     "text": [
      "Found metadata file at: /root/capsule/data/multiplane-ophys_736963_2024-07-09_09-13-58/metadata.nd.json\n",
      "Found metadata file at: /root/capsule/data/multiplane-ophys_736963_2024-07-09_09-13-58/metadata.nd.json\n",
      "Found metadata file at: /root/capsule/data/multiplane-ophys_736963_2024-07-09_09-13-58/metadata.nd.json\n",
      "Found metadata file at: /root/capsule/data/multiplane-ophys_736963_2024-07-23_08-57-56/metadata.nd.json\n",
      "Found metadata file at: /root/capsule/data/multiplane-ophys_736963_2024-07-23_08-57-56/metadata.nd.json\n",
      "Found metadata file at: /root/capsule/data/multiplane-ophys_736963_2024-07-23_08-57-56/metadata.nd.json\n",
      "Found metadata file at: /root/capsule/data/multiplane-ophys_736963_2024-08-29_10-20-27/metadata.nd.json\n",
      "Found metadata file at: /root/capsule/data/multiplane-ophys_736963_2024-08-29_10-20-27/metadata.nd.json\n",
      "Found metadata file at: /root/capsule/data/multiplane-ophys_736963_2024-08-29_10-20-27/metadata.nd.json\n",
      "Found metadata file at: /root/capsule/data/multiplane-ophys_736963_2024-07-16_09-17-44/metadata.nd.json\n"
     ]
    },
    {
     "name": "stderr",
     "output_type": "stream",
     "text": [
      "INFO:utils:Created DataFrame with session type: TRAINING_1_gratings and data asset ID: f656588d-4d12-488e-baca-3b2f379be6bb\n",
      "INFO:utils:Created DataFrame with session type: TRAINING_1_gratings and data asset ID: f656588d-4d12-488e-baca-3b2f379be6bb\n",
      "INFO:utils:Created DataFrame with session type: TRAINING_1_gratings and data asset ID: f656588d-4d12-488e-baca-3b2f379be6bb\n",
      "INFO:utils:Created DataFrame with session type: TRAINING_1_gratings and data asset ID: 1917eff5-8bfd-45a8-9f3e-2ca776910a2d\n",
      "INFO:utils:Created DataFrame with session type: TRAINING_1_gratings and data asset ID: 1917eff5-8bfd-45a8-9f3e-2ca776910a2d\n",
      "INFO:utils:Created DataFrame with session type: TRAINING_1_gratings and data asset ID: 1917eff5-8bfd-45a8-9f3e-2ca776910a2d\n",
      "INFO:utils:Created DataFrame with session type: TRAINING_5_images_A_epilogue and data asset ID: 291eaa8a-b5c3-4ba1-9136-ae72f13fa50c\n",
      "INFO:utils:Created DataFrame with session type: TRAINING_5_images_A_epilogue and data asset ID: 291eaa8a-b5c3-4ba1-9136-ae72f13fa50c\n"
     ]
    },
    {
     "name": "stdout",
     "output_type": "stream",
     "text": [
      "Found metadata file at: /root/capsule/data/multiplane-ophys_736963_2024-07-16_09-17-44/metadata.nd.json\n",
      "Found metadata file at: /root/capsule/data/multiplane-ophys_736963_2024-07-16_09-17-44/metadata.nd.json\n",
      "Found metadata file at: /root/capsule/data/multiplane-ophys_736963_2024-07-10_09-02-58/metadata.nd.json\n",
      "Found metadata file at: /root/capsule/data/multiplane-ophys_736963_2024-07-10_09-02-58/metadata.nd.json\n",
      "Found metadata file at: /root/capsule/data/multiplane-ophys_736963_2024-07-10_09-02-58/metadata.nd.json\n",
      "Found metadata file at: /root/capsule/data/multiplane-ophys_736963_2024-07-30_09-11-03/metadata.nd.json\n",
      "Found metadata file at: /root/capsule/data/multiplane-ophys_736963_2024-07-30_09-11-03/metadata.nd.json\n",
      "Found metadata file at: /root/capsule/data/multiplane-ophys_736963_2024-07-30_09-11-03/metadata.nd.json\n"
     ]
    },
    {
     "name": "stderr",
     "output_type": "stream",
     "text": [
      "INFO:utils:Created DataFrame with session type: TRAINING_5_images_A_epilogue and data asset ID: 291eaa8a-b5c3-4ba1-9136-ae72f13fa50c\n",
      "INFO:utils:Created DataFrame with session type: STAGE_1 and data asset ID: a459fd45-682f-4023-bfd8-4035dde8f4ec\n",
      "INFO:utils:Created DataFrame with session type: STAGE_1 and data asset ID: a459fd45-682f-4023-bfd8-4035dde8f4ec\n",
      "INFO:utils:Created DataFrame with session type: STAGE_1 and data asset ID: a459fd45-682f-4023-bfd8-4035dde8f4ec\n",
      "INFO:utils:Created DataFrame with session type: OPHYS_6_images_B and data asset ID: 3837aa50-1862-4711-9213-46f2a79d51b9\n",
      "INFO:utils:Created DataFrame with session type: OPHYS_6_images_B and data asset ID: 3837aa50-1862-4711-9213-46f2a79d51b9\n",
      "INFO:utils:Created DataFrame with session type: OPHYS_6_images_B and data asset ID: 3837aa50-1862-4711-9213-46f2a79d51b9\n"
     ]
    },
    {
     "name": "stdout",
     "output_type": "stream",
     "text": [
      "Found metadata file at: /root/capsule/data/multiplane-ophys_736963_2024-08-26_09-54-51/metadata.nd.json\n",
      "Found metadata file at: /root/capsule/data/multiplane-ophys_736963_2024-08-26_09-54-51/metadata.nd.json\n",
      "Found metadata file at: /root/capsule/data/multiplane-ophys_736963_2024-08-26_09-54-51/metadata.nd.json\n",
      "Found metadata file at: /root/capsule/data/multiplane-ophys_736963_2024-08-13_08-57-29/metadata.nd.json\n",
      "Found metadata file at: /root/capsule/data/multiplane-ophys_736963_2024-08-13_08-57-29/metadata.nd.json\n",
      "Found metadata file at: /root/capsule/data/multiplane-ophys_736963_2024-08-13_08-57-29/metadata.nd.json\n",
      "Found metadata file at: /root/capsule/data/multiplane-ophys_736963_2024-08-06_08-52-03/metadata.nd.json\n"
     ]
    },
    {
     "name": "stderr",
     "output_type": "stream",
     "text": [
      "INFO:utils:Created DataFrame with session type: OPHYS_1_images_A and data asset ID: 590aeedf-50fc-4c41-8c1b-1cacfb0ca429\n",
      "INFO:utils:Created DataFrame with session type: OPHYS_1_images_A and data asset ID: 590aeedf-50fc-4c41-8c1b-1cacfb0ca429\n",
      "INFO:utils:Created DataFrame with session type: OPHYS_1_images_A and data asset ID: 590aeedf-50fc-4c41-8c1b-1cacfb0ca429\n",
      "INFO:utils:Created DataFrame with session type: TRAINING_1_gratings and data asset ID: a0f9dac8-36cc-42b4-a9de-5a4f4167aecd\n",
      "INFO:utils:Created DataFrame with session type: TRAINING_1_gratings and data asset ID: a0f9dac8-36cc-42b4-a9de-5a4f4167aecd\n",
      "INFO:utils:Created DataFrame with session type: TRAINING_1_gratings and data asset ID: a0f9dac8-36cc-42b4-a9de-5a4f4167aecd\n",
      "INFO:utils:Created DataFrame with session type: TRAINING_1_gratings and data asset ID: 52e25838-a09a-4099-b52d-b1125675ddae\n",
      "INFO:utils:Created DataFrame with session type: TRAINING_1_gratings and data asset ID: 52e25838-a09a-4099-b52d-b1125675ddae\n",
      "INFO:utils:Created DataFrame with session type: TRAINING_1_gratings and data asset ID: 52e25838-a09a-4099-b52d-b1125675ddae\n"
     ]
    },
    {
     "name": "stdout",
     "output_type": "stream",
     "text": [
      "Found metadata file at: /root/capsule/data/multiplane-ophys_736963_2024-08-06_08-52-03/metadata.nd.json\n",
      "Found metadata file at: /root/capsule/data/multiplane-ophys_736963_2024-08-06_08-52-03/metadata.nd.json\n",
      "Found metadata file at: /root/capsule/data/multiplane-ophys_736963_2024-07-15_09-23-32/metadata.nd.json\n",
      "Found metadata file at: /root/capsule/data/multiplane-ophys_736963_2024-07-15_09-23-32/metadata.nd.json\n",
      "Found metadata file at: /root/capsule/data/multiplane-ophys_736963_2024-07-15_09-23-32/metadata.nd.json\n",
      "Found metadata file at: /root/capsule/data/multiplane-ophys_736963_2024-07-19_09-14-01/metadata.nd.json\n",
      "Found metadata file at: /root/capsule/data/multiplane-ophys_736963_2024-07-19_09-14-01/metadata.nd.json\n",
      "Found metadata file at: /root/capsule/data/multiplane-ophys_736963_2024-07-19_09-14-01/metadata.nd.json\n",
      "Found metadata file at: /root/capsule/data/multiplane-ophys_736963_2024-08-09_08-58-36/metadata.nd.json\n"
     ]
    },
    {
     "name": "stderr",
     "output_type": "stream",
     "text": [
      "INFO:utils:Created DataFrame with session type: OPHYS_4_images_B and data asset ID: c085c5b9-d3cd-466f-a379-c791fed5ac2c\n",
      "INFO:utils:Created DataFrame with session type: OPHYS_4_images_B and data asset ID: c085c5b9-d3cd-466f-a379-c791fed5ac2c\n",
      "INFO:utils:Created DataFrame with session type: OPHYS_4_images_B and data asset ID: c085c5b9-d3cd-466f-a379-c791fed5ac2c\n",
      "INFO:utils:Created DataFrame with session type: TRAINING_4_images_A_training and data asset ID: c08045d7-3c52-4546-bec5-5f9ee63e5d4c\n",
      "INFO:utils:Created DataFrame with session type: TRAINING_4_images_A_training and data asset ID: c08045d7-3c52-4546-bec5-5f9ee63e5d4c\n",
      "INFO:utils:Created DataFrame with session type: TRAINING_4_images_A_training and data asset ID: c08045d7-3c52-4546-bec5-5f9ee63e5d4c\n",
      "INFO:utils:Created DataFrame with session type: TRAINING_2_gratings_flashed and data asset ID: 1a721702-ba3b-444d-93a9-88fab9563dae\n",
      "INFO:utils:Created DataFrame with session type: TRAINING_2_gratings_flashed and data asset ID: 1a721702-ba3b-444d-93a9-88fab9563dae\n",
      "INFO:utils:Created DataFrame with session type: TRAINING_2_gratings_flashed and data asset ID: 1a721702-ba3b-444d-93a9-88fab9563dae\n"
     ]
    },
    {
     "name": "stdout",
     "output_type": "stream",
     "text": [
      "Found metadata file at: /root/capsule/data/multiplane-ophys_736963_2024-08-09_08-58-36/metadata.nd.json\n",
      "Found metadata file at: /root/capsule/data/multiplane-ophys_736963_2024-08-09_08-58-36/metadata.nd.json\n",
      "Found metadata file at: /root/capsule/data/multiplane-ophys_736963_2024-07-29_09-00-58/metadata.nd.json\n",
      "Found metadata file at: /root/capsule/data/multiplane-ophys_736963_2024-07-29_09-00-58/metadata.nd.json\n",
      "Found metadata file at: /root/capsule/data/multiplane-ophys_736963_2024-07-29_09-00-58/metadata.nd.json\n",
      "Found metadata file at: /root/capsule/data/multiplane-ophys_736963_2024-07-22_08-54-38/metadata.nd.json\n",
      "Found metadata file at: /root/capsule/data/multiplane-ophys_736963_2024-07-22_08-54-38/metadata.nd.json\n",
      "Found metadata file at: /root/capsule/data/multiplane-ophys_736963_2024-07-22_08-54-38/metadata.nd.json\n"
     ]
    },
    {
     "name": "stderr",
     "output_type": "stream",
     "text": [
      "INFO:utils:Created DataFrame with session type: TRAINING_1_gratings and data asset ID: 21a6c72f-5729-4120-9d63-bb690951d3ba\n",
      "INFO:utils:Created DataFrame with session type: TRAINING_1_gratings and data asset ID: 21a6c72f-5729-4120-9d63-bb690951d3ba\n",
      "INFO:utils:Created DataFrame with session type: TRAINING_1_gratings and data asset ID: 21a6c72f-5729-4120-9d63-bb690951d3ba\n",
      "INFO:utils:Created DataFrame with session type: OPHYS_1_images_A and data asset ID: f40cc9c6-770b-4572-a6a2-56fba389c8be\n",
      "INFO:utils:Created DataFrame with session type: OPHYS_1_images_A and data asset ID: f40cc9c6-770b-4572-a6a2-56fba389c8be\n",
      "INFO:utils:Created DataFrame with session type: OPHYS_1_images_A and data asset ID: f40cc9c6-770b-4572-a6a2-56fba389c8be\n"
     ]
    },
    {
     "name": "stdout",
     "output_type": "stream",
     "text": [
      "Found metadata file at: /root/capsule/data/multiplane-ophys_736963_2024-07-11_08-45-05/metadata.nd.json\n",
      "Found metadata file at: /root/capsule/data/multiplane-ophys_736963_2024-07-11_08-45-05/metadata.nd.json\n",
      "Found metadata file at: /root/capsule/data/multiplane-ophys_736963_2024-07-11_08-45-05/metadata.nd.json\n",
      "Found metadata file at: /root/capsule/data/multiplane-ophys_736963_2024-08-05_09-19-25/metadata.nd.json\n",
      "Found metadata file at: /root/capsule/data/multiplane-ophys_736963_2024-08-05_09-19-25/metadata.nd.json\n",
      "Found metadata file at: /root/capsule/data/multiplane-ophys_736963_2024-08-05_09-19-25/metadata.nd.json\n",
      "Found metadata file at: /root/capsule/data/multiplane-ophys_736963_2024-08-27_08-51-49/metadata.nd.json\n"
     ]
    },
    {
     "name": "stderr",
     "output_type": "stream",
     "text": [
      "INFO:utils:Created DataFrame with session type: STAGE_1 and data asset ID: a298794e-0b47-4414-b354-107b43e0f0da\n",
      "INFO:utils:Created DataFrame with session type: STAGE_1 and data asset ID: a298794e-0b47-4414-b354-107b43e0f0da\n",
      "INFO:utils:Created DataFrame with session type: STAGE_1 and data asset ID: a298794e-0b47-4414-b354-107b43e0f0da\n",
      "INFO:utils:Created DataFrame with session type: TRAINING_1_gratings and data asset ID: 86affd31-6248-4674-9dc2-333c1954281e\n",
      "INFO:utils:Created DataFrame with session type: TRAINING_1_gratings and data asset ID: 86affd31-6248-4674-9dc2-333c1954281e\n",
      "INFO:utils:Created DataFrame with session type: TRAINING_1_gratings and data asset ID: 86affd31-6248-4674-9dc2-333c1954281e\n",
      "INFO:utils:Created DataFrame with session type: TRAINING_1_gratings and data asset ID: 49ad4944-44fe-4a87-9c0d-affb2839c58b\n",
      "INFO:utils:Created DataFrame with session type: TRAINING_1_gratings and data asset ID: 49ad4944-44fe-4a87-9c0d-affb2839c58b\n",
      "INFO:utils:Created DataFrame with session type: TRAINING_1_gratings and data asset ID: 49ad4944-44fe-4a87-9c0d-affb2839c58b\n"
     ]
    },
    {
     "name": "stdout",
     "output_type": "stream",
     "text": [
      "Found metadata file at: /root/capsule/data/multiplane-ophys_736963_2024-08-27_08-51-49/metadata.nd.json\n",
      "Found metadata file at: /root/capsule/data/multiplane-ophys_736963_2024-08-27_08-51-49/metadata.nd.json\n",
      "Found metadata file at: /root/capsule/data/multiplane-ophys_736963_2024-07-12_09-20-11/metadata.nd.json\n",
      "Found metadata file at: /root/capsule/data/multiplane-ophys_736963_2024-07-12_09-20-11/metadata.nd.json\n",
      "Found metadata file at: /root/capsule/data/multiplane-ophys_736963_2024-07-12_09-20-11/metadata.nd.json\n",
      "Found metadata file at: /root/capsule/data/multiplane-ophys_736963_2024-07-18_08-41-14/metadata.nd.json\n",
      "Found metadata file at: /root/capsule/data/multiplane-ophys_736963_2024-07-18_08-41-14/metadata.nd.json\n",
      "Found metadata file at: /root/capsule/data/multiplane-ophys_736963_2024-07-18_08-41-14/metadata.nd.json\n",
      "Found metadata file at: /root/capsule/data/multiplane-ophys_736963_2024-08-07_09-11-10/metadata.nd.json\n"
     ]
    },
    {
     "name": "stderr",
     "output_type": "stream",
     "text": [
      "INFO:utils:Created DataFrame with session type: OPHYS_4_images_B and data asset ID: 12592716-8311-4b4f-8874-f544a2f473f8\n",
      "INFO:utils:Created DataFrame with session type: OPHYS_4_images_B and data asset ID: 12592716-8311-4b4f-8874-f544a2f473f8\n",
      "INFO:utils:Created DataFrame with session type: OPHYS_4_images_B and data asset ID: 12592716-8311-4b4f-8874-f544a2f473f8\n",
      "INFO:utils:Created DataFrame with session type: TRAINING_3_images_A_10uL_reward and data asset ID: e1921cd6-866e-401d-b4a9-be827953caef\n",
      "INFO:utils:Created DataFrame with session type: TRAINING_3_images_A_10uL_reward and data asset ID: e1921cd6-866e-401d-b4a9-be827953caef\n",
      "INFO:utils:Created DataFrame with session type: TRAINING_3_images_A_10uL_reward and data asset ID: e1921cd6-866e-401d-b4a9-be827953caef\n",
      "INFO:utils:Created DataFrame with session type: OPHYS_6_images_B and data asset ID: 7615b3aa-3276-4913-8ab2-56572de80f9c\n",
      "INFO:utils:Created DataFrame with session type: OPHYS_6_images_B and data asset ID: 7615b3aa-3276-4913-8ab2-56572de80f9c\n"
     ]
    },
    {
     "name": "stdout",
     "output_type": "stream",
     "text": [
      "Found metadata file at: /root/capsule/data/multiplane-ophys_736963_2024-08-07_09-11-10/metadata.nd.json\n",
      "Found metadata file at: /root/capsule/data/multiplane-ophys_736963_2024-08-07_09-11-10/metadata.nd.json\n",
      "Found metadata file at: /root/capsule/data/multiplane-ophys_736963_2024-07-24_08-49-57/metadata.nd.json\n",
      "Found metadata file at: /root/capsule/data/multiplane-ophys_736963_2024-07-24_08-49-57/metadata.nd.json\n",
      "Found metadata file at: /root/capsule/data/multiplane-ophys_736963_2024-07-24_08-49-57/metadata.nd.json\n",
      "Found metadata file at: /root/capsule/data/multiplane-ophys_736963_2024-08-12_09-17-19/metadata.nd.json\n",
      "Found metadata file at: /root/capsule/data/multiplane-ophys_736963_2024-08-12_09-17-19/metadata.nd.json\n",
      "Found metadata file at: /root/capsule/data/multiplane-ophys_736963_2024-08-12_09-17-19/metadata.nd.json\n"
     ]
    },
    {
     "name": "stderr",
     "output_type": "stream",
     "text": [
      "INFO:utils:Created DataFrame with session type: OPHYS_6_images_B and data asset ID: 7615b3aa-3276-4913-8ab2-56572de80f9c\n",
      "INFO:utils:Created DataFrame with session type: TRAINING_3_images_A_10uL_reward and data asset ID: 85253b80-3cd8-4eec-b58d-2773e2b2a5bd\n",
      "INFO:utils:Created DataFrame with session type: TRAINING_3_images_A_10uL_reward and data asset ID: 85253b80-3cd8-4eec-b58d-2773e2b2a5bd\n",
      "INFO:utils:Created DataFrame with session type: TRAINING_3_images_A_10uL_reward and data asset ID: 85253b80-3cd8-4eec-b58d-2773e2b2a5bd\n",
      "INFO:utils:Created DataFrame with session type: STAGE_0 and data asset ID: 2f8c309b-7fae-467d-9894-06d83ac1bbe0\n",
      "INFO:utils:Created DataFrame with session type: STAGE_0 and data asset ID: 2f8c309b-7fae-467d-9894-06d83ac1bbe0\n",
      "INFO:utils:Created DataFrame with session type: STAGE_0 and data asset ID: 2f8c309b-7fae-467d-9894-06d83ac1bbe0\n"
     ]
    },
    {
     "name": "stdout",
     "output_type": "stream",
     "text": [
      "Found metadata file at: /root/capsule/data/multiplane-ophys_736963_2024-07-26_09-37-45/metadata.nd.json\n",
      "Found metadata file at: /root/capsule/data/multiplane-ophys_736963_2024-07-26_09-37-45/metadata.nd.json\n",
      "Found metadata file at: /root/capsule/data/multiplane-ophys_736963_2024-07-26_09-37-45/metadata.nd.json\n",
      "Found metadata file at: /root/capsule/data/multiplane-ophys_736963_2024-08-23_09-13-46/metadata.nd.json\n",
      "Found metadata file at: /root/capsule/data/multiplane-ophys_736963_2024-08-23_09-13-46/metadata.nd.json\n",
      "Found metadata file at: /root/capsule/data/multiplane-ophys_736963_2024-08-23_09-13-46/metadata.nd.json\n"
     ]
    }
   ],
   "source": [
    "import pandas as pd\n",
    "df = pd.DataFrame()\n",
    "for video_path in video_paths:\n",
    "    tmp_df = utils.create_metadata_dataframe(video_path)\n",
    "    df = pd.concat([df, tmp_df], ignore_index=True)"
   ]
  },
  {
   "cell_type": "code",
   "execution_count": 14,
   "metadata": {},
   "outputs": [],
   "source": [
    "df = df.drop_duplicates(ignore_index=True)"
   ]
  },
  {
   "cell_type": "code",
   "execution_count": 15,
   "metadata": {},
   "outputs": [],
   "source": [
    "filename = 'Thyme_session_types_df.csv'\n",
    "df.to_csv(filename, index=False)\n"
   ]
  },
  {
   "cell_type": "code",
   "execution_count": 16,
   "metadata": {},
   "outputs": [],
   "source": [
    "df_loaded = pd.read_csv(filename)"
   ]
  },
  {
   "cell_type": "code",
   "execution_count": 17,
   "metadata": {},
   "outputs": [
    {
     "data": {
      "text/html": [
       "<div>\n",
       "<style scoped>\n",
       "    .dataframe tbody tr th:only-of-type {\n",
       "        vertical-align: middle;\n",
       "    }\n",
       "\n",
       "    .dataframe tbody tr th {\n",
       "        vertical-align: top;\n",
       "    }\n",
       "\n",
       "    .dataframe thead th {\n",
       "        text-align: right;\n",
       "    }\n",
       "</style>\n",
       "<table border=\"1\" class=\"dataframe\">\n",
       "  <thead>\n",
       "    <tr style=\"text-align: right;\">\n",
       "      <th></th>\n",
       "      <th>Session Type</th>\n",
       "      <th>Data Asset ID</th>\n",
       "    </tr>\n",
       "  </thead>\n",
       "  <tbody>\n",
       "    <tr>\n",
       "      <th>0</th>\n",
       "      <td>TRAINING_0_gratings_autorewards_15min</td>\n",
       "      <td>1ada3276-660a-410b-bbad-bd6ada00437f</td>\n",
       "    </tr>\n",
       "    <tr>\n",
       "      <th>1</th>\n",
       "      <td>TRAINING_2_gratings_flashed</td>\n",
       "      <td>4084b35a-ef15-402e-8ea2-44fbd0e086a1</td>\n",
       "    </tr>\n",
       "    <tr>\n",
       "      <th>2</th>\n",
       "      <td>STAGE_1</td>\n",
       "      <td>77436158-af44-44bd-92ce-ba3d2a94abeb</td>\n",
       "    </tr>\n",
       "    <tr>\n",
       "      <th>3</th>\n",
       "      <td>TRAINING_1_gratings</td>\n",
       "      <td>f656588d-4d12-488e-baca-3b2f379be6bb</td>\n",
       "    </tr>\n",
       "    <tr>\n",
       "      <th>4</th>\n",
       "      <td>TRAINING_1_gratings</td>\n",
       "      <td>1917eff5-8bfd-45a8-9f3e-2ca776910a2d</td>\n",
       "    </tr>\n",
       "    <tr>\n",
       "      <th>5</th>\n",
       "      <td>TRAINING_5_images_A_epilogue</td>\n",
       "      <td>291eaa8a-b5c3-4ba1-9136-ae72f13fa50c</td>\n",
       "    </tr>\n",
       "    <tr>\n",
       "      <th>6</th>\n",
       "      <td>STAGE_1</td>\n",
       "      <td>a459fd45-682f-4023-bfd8-4035dde8f4ec</td>\n",
       "    </tr>\n",
       "    <tr>\n",
       "      <th>7</th>\n",
       "      <td>OPHYS_6_images_B</td>\n",
       "      <td>3837aa50-1862-4711-9213-46f2a79d51b9</td>\n",
       "    </tr>\n",
       "    <tr>\n",
       "      <th>8</th>\n",
       "      <td>OPHYS_1_images_A</td>\n",
       "      <td>590aeedf-50fc-4c41-8c1b-1cacfb0ca429</td>\n",
       "    </tr>\n",
       "    <tr>\n",
       "      <th>9</th>\n",
       "      <td>TRAINING_1_gratings</td>\n",
       "      <td>a0f9dac8-36cc-42b4-a9de-5a4f4167aecd</td>\n",
       "    </tr>\n",
       "    <tr>\n",
       "      <th>10</th>\n",
       "      <td>TRAINING_1_gratings</td>\n",
       "      <td>52e25838-a09a-4099-b52d-b1125675ddae</td>\n",
       "    </tr>\n",
       "    <tr>\n",
       "      <th>11</th>\n",
       "      <td>OPHYS_4_images_B</td>\n",
       "      <td>c085c5b9-d3cd-466f-a379-c791fed5ac2c</td>\n",
       "    </tr>\n",
       "    <tr>\n",
       "      <th>12</th>\n",
       "      <td>TRAINING_4_images_A_training</td>\n",
       "      <td>c08045d7-3c52-4546-bec5-5f9ee63e5d4c</td>\n",
       "    </tr>\n",
       "    <tr>\n",
       "      <th>13</th>\n",
       "      <td>TRAINING_2_gratings_flashed</td>\n",
       "      <td>1a721702-ba3b-444d-93a9-88fab9563dae</td>\n",
       "    </tr>\n",
       "    <tr>\n",
       "      <th>14</th>\n",
       "      <td>TRAINING_1_gratings</td>\n",
       "      <td>21a6c72f-5729-4120-9d63-bb690951d3ba</td>\n",
       "    </tr>\n",
       "    <tr>\n",
       "      <th>15</th>\n",
       "      <td>OPHYS_1_images_A</td>\n",
       "      <td>f40cc9c6-770b-4572-a6a2-56fba389c8be</td>\n",
       "    </tr>\n",
       "    <tr>\n",
       "      <th>16</th>\n",
       "      <td>STAGE_1</td>\n",
       "      <td>a298794e-0b47-4414-b354-107b43e0f0da</td>\n",
       "    </tr>\n",
       "    <tr>\n",
       "      <th>17</th>\n",
       "      <td>TRAINING_1_gratings</td>\n",
       "      <td>86affd31-6248-4674-9dc2-333c1954281e</td>\n",
       "    </tr>\n",
       "    <tr>\n",
       "      <th>18</th>\n",
       "      <td>TRAINING_1_gratings</td>\n",
       "      <td>49ad4944-44fe-4a87-9c0d-affb2839c58b</td>\n",
       "    </tr>\n",
       "    <tr>\n",
       "      <th>19</th>\n",
       "      <td>OPHYS_4_images_B</td>\n",
       "      <td>12592716-8311-4b4f-8874-f544a2f473f8</td>\n",
       "    </tr>\n",
       "    <tr>\n",
       "      <th>20</th>\n",
       "      <td>TRAINING_3_images_A_10uL_reward</td>\n",
       "      <td>e1921cd6-866e-401d-b4a9-be827953caef</td>\n",
       "    </tr>\n",
       "    <tr>\n",
       "      <th>21</th>\n",
       "      <td>OPHYS_6_images_B</td>\n",
       "      <td>7615b3aa-3276-4913-8ab2-56572de80f9c</td>\n",
       "    </tr>\n",
       "    <tr>\n",
       "      <th>22</th>\n",
       "      <td>TRAINING_3_images_A_10uL_reward</td>\n",
       "      <td>85253b80-3cd8-4eec-b58d-2773e2b2a5bd</td>\n",
       "    </tr>\n",
       "    <tr>\n",
       "      <th>23</th>\n",
       "      <td>STAGE_0</td>\n",
       "      <td>2f8c309b-7fae-467d-9894-06d83ac1bbe0</td>\n",
       "    </tr>\n",
       "  </tbody>\n",
       "</table>\n",
       "</div>"
      ],
      "text/plain": [
       "                             Session Type  \\\n",
       "0   TRAINING_0_gratings_autorewards_15min   \n",
       "1             TRAINING_2_gratings_flashed   \n",
       "2                                 STAGE_1   \n",
       "3                     TRAINING_1_gratings   \n",
       "4                     TRAINING_1_gratings   \n",
       "5            TRAINING_5_images_A_epilogue   \n",
       "6                                 STAGE_1   \n",
       "7                        OPHYS_6_images_B   \n",
       "8                        OPHYS_1_images_A   \n",
       "9                     TRAINING_1_gratings   \n",
       "10                    TRAINING_1_gratings   \n",
       "11                       OPHYS_4_images_B   \n",
       "12           TRAINING_4_images_A_training   \n",
       "13            TRAINING_2_gratings_flashed   \n",
       "14                    TRAINING_1_gratings   \n",
       "15                       OPHYS_1_images_A   \n",
       "16                                STAGE_1   \n",
       "17                    TRAINING_1_gratings   \n",
       "18                    TRAINING_1_gratings   \n",
       "19                       OPHYS_4_images_B   \n",
       "20        TRAINING_3_images_A_10uL_reward   \n",
       "21                       OPHYS_6_images_B   \n",
       "22        TRAINING_3_images_A_10uL_reward   \n",
       "23                                STAGE_0   \n",
       "\n",
       "                           Data Asset ID  \n",
       "0   1ada3276-660a-410b-bbad-bd6ada00437f  \n",
       "1   4084b35a-ef15-402e-8ea2-44fbd0e086a1  \n",
       "2   77436158-af44-44bd-92ce-ba3d2a94abeb  \n",
       "3   f656588d-4d12-488e-baca-3b2f379be6bb  \n",
       "4   1917eff5-8bfd-45a8-9f3e-2ca776910a2d  \n",
       "5   291eaa8a-b5c3-4ba1-9136-ae72f13fa50c  \n",
       "6   a459fd45-682f-4023-bfd8-4035dde8f4ec  \n",
       "7   3837aa50-1862-4711-9213-46f2a79d51b9  \n",
       "8   590aeedf-50fc-4c41-8c1b-1cacfb0ca429  \n",
       "9   a0f9dac8-36cc-42b4-a9de-5a4f4167aecd  \n",
       "10  52e25838-a09a-4099-b52d-b1125675ddae  \n",
       "11  c085c5b9-d3cd-466f-a379-c791fed5ac2c  \n",
       "12  c08045d7-3c52-4546-bec5-5f9ee63e5d4c  \n",
       "13  1a721702-ba3b-444d-93a9-88fab9563dae  \n",
       "14  21a6c72f-5729-4120-9d63-bb690951d3ba  \n",
       "15  f40cc9c6-770b-4572-a6a2-56fba389c8be  \n",
       "16  a298794e-0b47-4414-b354-107b43e0f0da  \n",
       "17  86affd31-6248-4674-9dc2-333c1954281e  \n",
       "18  49ad4944-44fe-4a87-9c0d-affb2839c58b  \n",
       "19  12592716-8311-4b4f-8874-f544a2f473f8  \n",
       "20  e1921cd6-866e-401d-b4a9-be827953caef  \n",
       "21  7615b3aa-3276-4913-8ab2-56572de80f9c  \n",
       "22  85253b80-3cd8-4eec-b58d-2773e2b2a5bd  \n",
       "23  2f8c309b-7fae-467d-9894-06d83ac1bbe0  "
      ]
     },
     "execution_count": 17,
     "metadata": {},
     "output_type": "execute_result"
    }
   ],
   "source": [
    "df_loaded"
   ]
  },
  {
   "cell_type": "code",
   "execution_count": null,
   "metadata": {},
   "outputs": [],
   "source": []
  }
 ],
 "metadata": {
  "kernelspec": {
   "display_name": "base",
   "language": "python",
   "name": "python3"
  },
  "language_info": {
   "codemirror_mode": {
    "name": "ipython",
    "version": 3
   },
   "file_extension": ".py",
   "mimetype": "text/x-python",
   "name": "python",
   "nbconvert_exporter": "python",
   "pygments_lexer": "ipython3",
   "version": "3.9.12"
  },
  "orig_nbformat": 4,
  "vscode": {
   "interpreter": {
    "hash": "d4d1e4263499bec80672ea0156c357c1ee493ec2b1c70f0acce89fc37c4a6abe"
   }
  }
 },
 "nbformat": 4,
 "nbformat_minor": 2
}
