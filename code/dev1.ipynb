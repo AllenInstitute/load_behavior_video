{
 "cells": [
  {
   "cell_type": "code",
   "execution_count": 4,
   "metadata": {},
   "outputs": [],
   "source": [
    "import os\n",
    "from tqdm import tqdm\n",
    "import utils\n",
    "import time  # Added for timing\n",
    "from VideoLoader import VideoLoader  # Correct import\n",
    "\n",
    "DATA_PATH = '/root/capsule/data'\n",
    "OUTPUT_PATH = '/root/capsule/results'\n"
   ]
  },
  {
   "cell_type": "code",
   "execution_count": 5,
   "metadata": {},
   "outputs": [],
   "source": [
    "# notebook dev\n",
    "%load_ext autoreload\n",
    "%autoreload 2"
   ]
  },
  {
   "cell_type": "code",
   "execution_count": 6,
   "metadata": {},
   "outputs": [],
   "source": [
    "data_folder=DATA_PATH\n",
    "results_folder=OUTPUT_PATH\n",
    "subselect=None"
   ]
  },
  {
   "cell_type": "code",
   "execution_count": 7,
   "metadata": {},
   "outputs": [],
   "source": [
    " video_path = '/root/capsule/data/multiplane-ophys_731327_2024-08-23_13-22-02/behavior-videos/1388918966_Face_20240823T132146.mp4'\n"
   ]
  },
  {
   "cell_type": "code",
   "execution_count": null,
   "metadata": {},
   "outputs": [],
   "source": []
  },
  {
   "cell_type": "code",
   "execution_count": 8,
   "metadata": {},
   "outputs": [
    {
     "name": "stdout",
     "output_type": "stream",
     "text": [
      "Processing /root/capsule/data/multiplane-ophys_731327_2024-08-23_13-22-02/behavior-videos/1388918966_Face_20240823T132146.mp4\n",
      "Found metadata file at: /root/capsule/data/multiplane-ophys_731327_2024-08-23_13-22-02/metadata.nd.json\n",
      "Saved frames and metadata in /root/capsule/results/731327_Face_430b2b85-bf69-4312-b73f-1902f1a0884e/processed_frames_zarr\n",
      "Total time taken: 187.84 seconds\n"
     ]
    }
   ],
   "source": [
    "# run_capsule code\n",
    "def run():\n",
    "    def analyze_and_save_videos(data_folder=DATA_PATH, results_folder=OUTPUT_PATH, subselect=None):\n",
    "        # Ensure results directory exists\n",
    "        if not os.path.exists(results_folder):\n",
    "            os.makedirs(results_folder)\n",
    "        \n",
    "        # Get video paths from utils\n",
    "        # video_paths = utils.get_video_paths(directory=data_folder, subselect=subselect)\n",
    "\n",
    "        start_time = time.time()  # Start the timer\n",
    "\n",
    "        # Process each video\n",
    "        video_path = '/root/capsule/data/multiplane-ophys_731327_2024-08-23_13-22-02/behavior-videos/1388918966_Face_20240823T132146.mp4'\n",
    "        # Initialize VideoLoader object with the video path\n",
    "        if 'face' in video_path.lower():\n",
    "            print(f'Processing {video_path}')\n",
    "            loader = VideoLoader(video_path=video_path)\n",
    "            \n",
    "            # Process the video (load frames, metadata, timestamps, and save results)\n",
    "            loader._process(gray=True, start_sec = None, stop_sec = None, save_dir=results_folder)\n",
    "        else:\n",
    "            print('processing only face videos for now')\n",
    "\n",
    "        end_time = time.time()  # End the timer\n",
    "        duration = end_time - start_time\n",
    "        print(f\"Total time taken: {duration:.2f} seconds\")\n",
    "\n",
    "    # Example usage with subselect\n",
    "    analyze_and_save_videos(data_folder=DATA_PATH, results_folder=OUTPUT_PATH, subselect='multiplane')\n",
    "\n",
    "if __name__ == \"__main__\":\n",
    "    run()\n"
   ]
  },
  {
   "cell_type": "code",
   "execution_count": 24,
   "metadata": {},
   "outputs": [
    {
     "data": {
      "text/plain": [
       "<VideoLoader.VideoLoader at 0x7f8b0c502e50>"
      ]
     },
     "execution_count": 24,
     "metadata": {},
     "output_type": "execute_result"
    }
   ],
   "source": [
    "loader"
   ]
  },
  {
   "cell_type": "code",
   "execution_count": null,
   "metadata": {},
   "outputs": [],
   "source": []
  }
 ],
 "metadata": {
  "kernelspec": {
   "display_name": "base",
   "language": "python",
   "name": "python3"
  },
  "language_info": {
   "codemirror_mode": {
    "name": "ipython",
    "version": 3
   },
   "file_extension": ".py",
   "mimetype": "text/x-python",
   "name": "python",
   "nbconvert_exporter": "python",
   "pygments_lexer": "ipython3",
   "version": "3.9.12"
  },
  "orig_nbformat": 4,
  "vscode": {
   "interpreter": {
    "hash": "d4d1e4263499bec80672ea0156c357c1ee493ec2b1c70f0acce89fc37c4a6abe"
   }
  }
 },
 "nbformat": 4,
 "nbformat_minor": 2
}
